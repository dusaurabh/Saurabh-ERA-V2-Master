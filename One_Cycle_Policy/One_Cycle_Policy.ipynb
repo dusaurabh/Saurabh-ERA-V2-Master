{
 "cells": [
  {
   "cell_type": "code",
   "execution_count": 9,
   "id": "aee78100-170a-4714-9bd0-a7c3624aad3c",
   "metadata": {},
   "outputs": [
    {
     "name": "stdout",
     "output_type": "stream",
     "text": [
      "Requirement already satisfied: torch-lr-finder in d:\\softwares\\anaconda3\\envs\\pytorch-gpu\\lib\\site-packages (0.2.1)\n",
      "Requirement already satisfied: matplotlib in d:\\softwares\\anaconda3\\envs\\pytorch-gpu\\lib\\site-packages (from torch-lr-finder) (3.8.3)\n",
      "Requirement already satisfied: numpy in d:\\softwares\\anaconda3\\envs\\pytorch-gpu\\lib\\site-packages (from torch-lr-finder) (1.26.3)\n",
      "Requirement already satisfied: torch>=0.4.1 in d:\\softwares\\anaconda3\\envs\\pytorch-gpu\\lib\\site-packages (from torch-lr-finder) (2.2.1+cu121)\n",
      "Requirement already satisfied: tqdm in d:\\softwares\\anaconda3\\envs\\pytorch-gpu\\lib\\site-packages (from torch-lr-finder) (4.66.2)\n",
      "Requirement already satisfied: packaging in d:\\softwares\\anaconda3\\envs\\pytorch-gpu\\lib\\site-packages (from torch-lr-finder) (23.1)\n",
      "Requirement already satisfied: filelock in d:\\softwares\\anaconda3\\envs\\pytorch-gpu\\lib\\site-packages (from torch>=0.4.1->torch-lr-finder) (3.9.0)\n",
      "Requirement already satisfied: typing-extensions>=4.8.0 in d:\\softwares\\anaconda3\\envs\\pytorch-gpu\\lib\\site-packages (from torch>=0.4.1->torch-lr-finder) (4.9.0)\n",
      "Requirement already satisfied: sympy in d:\\softwares\\anaconda3\\envs\\pytorch-gpu\\lib\\site-packages (from torch>=0.4.1->torch-lr-finder) (1.12)\n",
      "Requirement already satisfied: networkx in d:\\softwares\\anaconda3\\envs\\pytorch-gpu\\lib\\site-packages (from torch>=0.4.1->torch-lr-finder) (3.2.1)\n",
      "Requirement already satisfied: jinja2 in d:\\softwares\\anaconda3\\envs\\pytorch-gpu\\lib\\site-packages (from torch>=0.4.1->torch-lr-finder) (3.1.3)\n",
      "Requirement already satisfied: fsspec in d:\\softwares\\anaconda3\\envs\\pytorch-gpu\\lib\\site-packages (from torch>=0.4.1->torch-lr-finder) (2023.4.0)\n",
      "Requirement already satisfied: contourpy>=1.0.1 in d:\\softwares\\anaconda3\\envs\\pytorch-gpu\\lib\\site-packages (from matplotlib->torch-lr-finder) (1.2.0)\n",
      "Requirement already satisfied: cycler>=0.10 in d:\\softwares\\anaconda3\\envs\\pytorch-gpu\\lib\\site-packages (from matplotlib->torch-lr-finder) (0.12.1)\n",
      "Requirement already satisfied: fonttools>=4.22.0 in d:\\softwares\\anaconda3\\envs\\pytorch-gpu\\lib\\site-packages (from matplotlib->torch-lr-finder) (4.49.0)\n",
      "Requirement already satisfied: kiwisolver>=1.3.1 in d:\\softwares\\anaconda3\\envs\\pytorch-gpu\\lib\\site-packages (from matplotlib->torch-lr-finder) (1.4.5)\n",
      "Requirement already satisfied: pillow>=8 in d:\\softwares\\anaconda3\\envs\\pytorch-gpu\\lib\\site-packages (from matplotlib->torch-lr-finder) (10.2.0)\n",
      "Requirement already satisfied: pyparsing>=2.3.1 in d:\\softwares\\anaconda3\\envs\\pytorch-gpu\\lib\\site-packages (from matplotlib->torch-lr-finder) (3.1.1)\n",
      "Requirement already satisfied: python-dateutil>=2.7 in d:\\softwares\\anaconda3\\envs\\pytorch-gpu\\lib\\site-packages (from matplotlib->torch-lr-finder) (2.8.2)\n",
      "Requirement already satisfied: colorama in d:\\softwares\\anaconda3\\envs\\pytorch-gpu\\lib\\site-packages (from tqdm->torch-lr-finder) (0.4.6)\n",
      "Requirement already satisfied: six>=1.5 in d:\\softwares\\anaconda3\\envs\\pytorch-gpu\\lib\\site-packages (from python-dateutil>=2.7->matplotlib->torch-lr-finder) (1.16.0)\n",
      "Requirement already satisfied: MarkupSafe>=2.0 in d:\\softwares\\anaconda3\\envs\\pytorch-gpu\\lib\\site-packages (from jinja2->torch>=0.4.1->torch-lr-finder) (2.1.3)\n",
      "Requirement already satisfied: mpmath>=0.19 in d:\\softwares\\anaconda3\\envs\\pytorch-gpu\\lib\\site-packages (from sympy->torch>=0.4.1->torch-lr-finder) (1.3.0)\n",
      "Note: you may need to restart the kernel to use updated packages.\n"
     ]
    }
   ],
   "source": [
    "pip install torch-lr-finder"
   ]
  },
  {
   "cell_type": "code",
   "execution_count": 10,
   "id": "a05064d9-f198-4e39-af59-6508260aa8ed",
   "metadata": {},
   "outputs": [
    {
     "name": "stdout",
     "output_type": "stream",
     "text": [
      "Using pip 23.3.1 from D:\\Softwares\\anaconda3\\envs\\pytorch-gpu\\Lib\\site-packages\\pip (python 3.11)\n",
      "Requirement already satisfied: torch-lr-finder in d:\\softwares\\anaconda3\\envs\\pytorch-gpu\\lib\\site-packages (0.2.1)\n",
      "Requirement already satisfied: matplotlib in d:\\softwares\\anaconda3\\envs\\pytorch-gpu\\lib\\site-packages (from torch-lr-finder) (3.8.3)\n",
      "Requirement already satisfied: numpy in d:\\softwares\\anaconda3\\envs\\pytorch-gpu\\lib\\site-packages (from torch-lr-finder) (1.26.3)\n",
      "Requirement already satisfied: torch>=0.4.1 in d:\\softwares\\anaconda3\\envs\\pytorch-gpu\\lib\\site-packages (from torch-lr-finder) (2.2.1+cu121)\n",
      "Requirement already satisfied: tqdm in d:\\softwares\\anaconda3\\envs\\pytorch-gpu\\lib\\site-packages (from torch-lr-finder) (4.66.2)\n",
      "Requirement already satisfied: packaging in d:\\softwares\\anaconda3\\envs\\pytorch-gpu\\lib\\site-packages (from torch-lr-finder) (23.1)\n",
      "Requirement already satisfied: filelock in d:\\softwares\\anaconda3\\envs\\pytorch-gpu\\lib\\site-packages (from torch>=0.4.1->torch-lr-finder) (3.9.0)\n",
      "Requirement already satisfied: typing-extensions>=4.8.0 in d:\\softwares\\anaconda3\\envs\\pytorch-gpu\\lib\\site-packages (from torch>=0.4.1->torch-lr-finder) (4.9.0)\n",
      "Requirement already satisfied: sympy in d:\\softwares\\anaconda3\\envs\\pytorch-gpu\\lib\\site-packages (from torch>=0.4.1->torch-lr-finder) (1.12)\n",
      "Requirement already satisfied: networkx in d:\\softwares\\anaconda3\\envs\\pytorch-gpu\\lib\\site-packages (from torch>=0.4.1->torch-lr-finder) (3.2.1)\n",
      "Requirement already satisfied: jinja2 in d:\\softwares\\anaconda3\\envs\\pytorch-gpu\\lib\\site-packages (from torch>=0.4.1->torch-lr-finder) (3.1.3)\n",
      "Requirement already satisfied: fsspec in d:\\softwares\\anaconda3\\envs\\pytorch-gpu\\lib\\site-packages (from torch>=0.4.1->torch-lr-finder) (2023.4.0)\n",
      "Requirement already satisfied: contourpy>=1.0.1 in d:\\softwares\\anaconda3\\envs\\pytorch-gpu\\lib\\site-packages (from matplotlib->torch-lr-finder) (1.2.0)\n",
      "Requirement already satisfied: cycler>=0.10 in d:\\softwares\\anaconda3\\envs\\pytorch-gpu\\lib\\site-packages (from matplotlib->torch-lr-finder) (0.12.1)\n",
      "Requirement already satisfied: fonttools>=4.22.0 in d:\\softwares\\anaconda3\\envs\\pytorch-gpu\\lib\\site-packages (from matplotlib->torch-lr-finder) (4.49.0)\n",
      "Requirement already satisfied: kiwisolver>=1.3.1 in d:\\softwares\\anaconda3\\envs\\pytorch-gpu\\lib\\site-packages (from matplotlib->torch-lr-finder) (1.4.5)\n",
      "Requirement already satisfied: pillow>=8 in d:\\softwares\\anaconda3\\envs\\pytorch-gpu\\lib\\site-packages (from matplotlib->torch-lr-finder) (10.2.0)\n",
      "Requirement already satisfied: pyparsing>=2.3.1 in d:\\softwares\\anaconda3\\envs\\pytorch-gpu\\lib\\site-packages (from matplotlib->torch-lr-finder) (3.1.1)\n",
      "Requirement already satisfied: python-dateutil>=2.7 in d:\\softwares\\anaconda3\\envs\\pytorch-gpu\\lib\\site-packages (from matplotlib->torch-lr-finder) (2.8.2)\n",
      "Requirement already satisfied: colorama in d:\\softwares\\anaconda3\\envs\\pytorch-gpu\\lib\\site-packages (from tqdm->torch-lr-finder) (0.4.6)\n",
      "Requirement already satisfied: six>=1.5 in d:\\softwares\\anaconda3\\envs\\pytorch-gpu\\lib\\site-packages (from python-dateutil>=2.7->matplotlib->torch-lr-finder) (1.16.0)\n",
      "Requirement already satisfied: MarkupSafe>=2.0 in d:\\softwares\\anaconda3\\envs\\pytorch-gpu\\lib\\site-packages (from jinja2->torch>=0.4.1->torch-lr-finder) (2.1.3)\n",
      "Requirement already satisfied: mpmath>=0.19 in d:\\softwares\\anaconda3\\envs\\pytorch-gpu\\lib\\site-packages (from sympy->torch>=0.4.1->torch-lr-finder) (1.3.0)\n",
      "Note: you may need to restart the kernel to use updated packages.\n"
     ]
    },
    {
     "name": "stderr",
     "output_type": "stream",
     "text": [
      "DEPRECATION: --build-option and --global-option are deprecated. pip 24.0 will enforce this behaviour change. A possible replacement is to use --config-settings. Discussion can be found at https://github.com/pypa/pip/issues/11859\n",
      "WARNING: Implying --no-binary=:all: due to the presence of --build-option / --global-option.\n"
     ]
    }
   ],
   "source": [
    "pip install torch-lr-finder -v --global-option=\"apex\""
   ]
  },
  {
   "cell_type": "code",
   "execution_count": 29,
   "id": "0beb3c3a-399d-40cb-8990-ad3aa9a3fa54",
   "metadata": {},
   "outputs": [
    {
     "name": "stdout",
     "output_type": "stream",
     "text": [
      "cuda\n"
     ]
    }
   ],
   "source": [
    "from torch_lr_finder import LRFinder\n",
    "from models import ResNet\n",
    "import torch\n",
    "import torch.nn as nn\n",
    "import torch.optim as optim\n",
    "from torchvision import datasets, transforms\n",
    "\n",
    "use_cuda = torch.cuda.is_available()\n",
    "device = torch.device(\"cuda\" if use_cuda else \"cpu\")\n",
    "print(device)\n",
    "model = ResNet().to(device)"
   ]
  },
  {
   "cell_type": "code",
   "execution_count": 30,
   "id": "25d2d075-0079-4676-a45e-d2aea76b0baa",
   "metadata": {},
   "outputs": [],
   "source": [
    "from utils import train_transforms, test_transforms, train_test_data_loader"
   ]
  },
  {
   "cell_type": "code",
   "execution_count": 31,
   "id": "cd575ed3-e34e-40f0-b066-aae7edd904c1",
   "metadata": {},
   "outputs": [],
   "source": [
    "class CIFAR10Dataset(datasets.CIFAR10):\n",
    "    def __init__(self, root, train=True, transform=None, target_transform=None, download=False):\n",
    "        super().__init__(root, train=train, transform=transform, target_transform=target_transform, download=download)\n",
    "\n",
    "    def __getitem__(self, index):\n",
    "        image, label = self.data[index], self.targets[index]\n",
    "        if self.transforms is not None:\n",
    "          transformed = self.transform(image=image)\n",
    "          image = transformed[\"image\"]\n",
    "        return image, label"
   ]
  },
  {
   "cell_type": "code",
   "execution_count": 32,
   "id": "b569696e-68bc-4085-bd3e-2c77cbbd98e4",
   "metadata": {},
   "outputs": [
    {
     "name": "stdout",
     "output_type": "stream",
     "text": [
      "Files already downloaded and verified\n",
      "Files already downloaded and verified\n"
     ]
    }
   ],
   "source": [
    "train = CIFAR10Dataset(root='./data', train=True, transform=train_transforms, download=True)\n",
    "test = CIFAR10Dataset(root='./data', train=False, transform=test_transforms, download=True)"
   ]
  },
  {
   "cell_type": "code",
   "execution_count": 33,
   "id": "1e9b084e-fe45-4cda-af12-1db30855dceb",
   "metadata": {},
   "outputs": [
    {
     "name": "stdout",
     "output_type": "stream",
     "text": [
      "CUDA Available? True\n"
     ]
    }
   ],
   "source": [
    "train_loader, test_loader = train_test_data_loader(train,test)"
   ]
  },
  {
   "cell_type": "code",
   "execution_count": 35,
   "id": "f3d73ddb-ab0e-4334-a5ac-c157c2537ce1",
   "metadata": {},
   "outputs": [
    {
     "name": "stderr",
     "output_type": "stream",
     "text": [
      "100%|██████████| 100/100 [03:13<00:00,  1.93s/it]"
     ]
    },
    {
     "name": "stdout",
     "output_type": "stream",
     "text": [
      "Learning rate search finished. See the graph with {finder_name}.plot()\n",
      "LR suggestion: steepest gradient\n",
      "Suggested LR: 1.91E-01\n"
     ]
    },
    {
     "name": "stderr",
     "output_type": "stream",
     "text": [
      "\n"
     ]
    },
    {
     "data": {
      "image/png": "[encoded data removed]",
      "text/plain": [
       "<Figure size 640x480 with 1 Axes>"
      ]
     },
     "metadata": {},
     "output_type": "display_data"
    }
   ],
   "source": [
    "criterion = nn.CrossEntropyLoss()\n",
    "optimizer = optim.Adam(model.parameters(), lr=0.1, weight_decay=1e-2)\n",
    "lr_finder = LRFinder(model, optimizer, criterion, device=\"cuda\")\n",
    "lr_finder.range_test(train_loader, val_loader=test_loader, end_lr=1, num_iter=100, step_mode=\"linear\")\n",
    "lr_finder.plot(log_lr=False)\n",
    "lr_finder.reset()"
   ]
  },
  {
   "cell_type": "code",
   "execution_count": null,
   "id": "4d9915bb-ab28-4ed3-8865-c2c4130d3367",
   "metadata": {},
   "outputs": [],
   "source": []
  }
 ],
 "metadata": {
  "kernelspec": {
   "display_name": "Python 3 (ipykernel)",
   "language": "python",
   "name": "python3"
  },
  "language_info": {
   "codemirror_mode": {
    "name": "ipython",
    "version": 3
   },
   "file_extension": ".py",
   "mimetype": "text/x-python",
   "name": "python",
   "nbconvert_exporter": "python",
   "pygments_lexer": "ipython3",
   "version": "3.11.7"
  }
 },
 "nbformat": 4,
 "nbformat_minor": 5
}
