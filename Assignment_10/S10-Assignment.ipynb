{
 "cells": [
  {
   "cell_type": "code",
   "execution_count": 1,
   "id": "39368de9-0279-4aba-8304-04694f3411f7",
   "metadata": {},
   "outputs": [],
   "source": [
    "from __future__ import print_function\n",
    "import torch\n",
    "\n",
    "import torch.optim as optim\n",
    "from torchvision import datasets, transforms\n",
    "\n",
    "from PIL import Image\n",
    "import time\n",
    "import cv2\n",
    "import matplotlib.pyplot as plt\n",
    "import numpy as np\n",
    "import utils"
   ]
  },
  {
   "cell_type": "code",
   "execution_count": 1,
   "id": "4866359f-01ef-4066-b346-25175296d59f",
   "metadata": {},
   "outputs": [
    {
     "ename": "SyntaxError",
     "evalue": "invalid syntax (4184115792.py, line 1)",
     "output_type": "error",
     "traceback": [
      "\u001b[1;36m  Cell \u001b[1;32mIn[1], line 1\u001b[1;36m\u001b[0m\n\u001b[1;33m    git clone https://github.com/dusaurabh/Saurabh-ERA-V2-Master.git\u001b[0m\n\u001b[1;37m        ^\u001b[0m\n\u001b[1;31mSyntaxError\u001b[0m\u001b[1;31m:\u001b[0m invalid syntax\n"
     ]
    }
   ],
   "source": [
    "git clone https://github.com/dusaurabh/Saurabh-ERA-V2-Master.git"
   ]
  },
  {
   "cell_type": "code",
   "execution_count": 2,
   "id": "c01a2c67-4838-4ad6-9b8e-17c4aeb15a27",
   "metadata": {},
   "outputs": [],
   "source": [
    "from utils import train_transforms, test_transforms, train_test_data_loader, get_training_images"
   ]
  },
  {
   "cell_type": "code",
   "execution_count": 3,
   "id": "fe8a5f83-325b-48b0-ae77-dbb59cd05658",
   "metadata": {},
   "outputs": [],
   "source": [
    "class CIFAR10Dataset(datasets.CIFAR10):\n",
    "    def __init__(self, root, train=True, transform=None, target_transform=None, download=False):\n",
    "        super().__init__(root, train=train, transform=transform, target_transform=target_transform, download=download)\n",
    "\n",
    "    def __getitem__(self, index):\n",
    "        image, label = self.data[index], self.targets[index]\n",
    "        if self.transforms is not None:\n",
    "          transformed = self.transform(image=image)\n",
    "          image = transformed[\"image\"]\n",
    "        return image, label"
   ]
  },
  {
   "cell_type": "code",
   "execution_count": 4,
   "id": "beb8374a-ff39-4415-9455-8483b2add88c",
   "metadata": {},
   "outputs": [
    {
     "name": "stdout",
     "output_type": "stream",
     "text": [
      "Files already downloaded and verified\n",
      "Files already downloaded and verified\n"
     ]
    }
   ],
   "source": [
    "train = CIFAR10Dataset(root='./data', train=True, transform=train_transforms, download=True)\n",
    "test = CIFAR10Dataset(root='./data', train=False, transform=test_transforms, download=True)"
   ]
  },
  {
   "cell_type": "code",
   "execution_count": 5,
   "id": "5e3cf014-84f7-4bf5-af2c-ffaa31a4fdc7",
   "metadata": {},
   "outputs": [
    {
     "name": "stdout",
     "output_type": "stream",
     "text": [
      "CUDA Available? True\n"
     ]
    }
   ],
   "source": [
    "train_loader, test_loader = train_test_data_loader(train,test)"
   ]
  },
  {
   "cell_type": "code",
   "execution_count": 6,
   "id": "7b85f198-1ed8-49fa-83de-6b7ee47af1df",
   "metadata": {},
   "outputs": [
    {
     "name": "stderr",
     "output_type": "stream",
     "text": [
      "Clipping input data to the valid range for imshow with RGB data ([0..1] for floats or [0..255] for integers).\n"
     ]
    },
    {
     "data": {
      "image/png": "[encoded data removed]",
      "text/plain": [
       "<Figure size 640x480 with 1 Axes>"
      ]
     },
     "metadata": {},
     "output_type": "display_data"
    },
    {
     "data": {
      "text/plain": [
       "'ship  bird  cat   dog  '"
      ]
     },
     "execution_count": 6,
     "metadata": {},
     "output_type": "execute_result"
    }
   ],
   "source": [
    "get_training_images(train_loader)"
   ]
  },
  {
   "cell_type": "code",
   "execution_count": 7,
   "id": "29b94b7e-8465-459e-abbc-b9b338510c5a",
   "metadata": {},
   "outputs": [],
   "source": [
    "from models import ResNet"
   ]
  },
  {
   "cell_type": "code",
   "execution_count": 11,
   "id": "8d01aff3-8c8a-47c9-9621-2464e74e9bf5",
   "metadata": {},
   "outputs": [
    {
     "name": "stdout",
     "output_type": "stream",
     "text": [
      "cuda\n",
      "----------------------------------------------------------------\n",
      "        Layer (type)               Output Shape         Param #\n",
      "================================================================\n",
      "            Conv2d-1           [-1, 64, 32, 32]           1,728\n",
      "       BatchNorm2d-2           [-1, 64, 32, 32]             128\n",
      "              ReLU-3           [-1, 64, 32, 32]               0\n",
      "           Dropout-4           [-1, 64, 32, 32]               0\n",
      "            Conv2d-5          [-1, 128, 32, 32]          73,728\n",
      "         MaxPool2d-6          [-1, 128, 16, 16]               0\n",
      "       BatchNorm2d-7          [-1, 128, 16, 16]             256\n",
      "              ReLU-8          [-1, 128, 16, 16]               0\n",
      "           Dropout-9          [-1, 128, 16, 16]               0\n",
      "           Conv2d-10          [-1, 128, 16, 16]         147,456\n",
      "      BatchNorm2d-11          [-1, 128, 16, 16]             256\n",
      "             ReLU-12          [-1, 128, 16, 16]               0\n",
      "           Conv2d-13          [-1, 128, 16, 16]         147,456\n",
      "      BatchNorm2d-14          [-1, 128, 16, 16]             256\n",
      "             ReLU-15          [-1, 128, 16, 16]               0\n",
      "    ResidualBlock-16          [-1, 128, 16, 16]               0\n",
      "          Dropout-17          [-1, 128, 16, 16]               0\n",
      "           Conv2d-18          [-1, 256, 16, 16]         294,912\n",
      "        MaxPool2d-19            [-1, 256, 8, 8]               0\n",
      "      BatchNorm2d-20            [-1, 256, 8, 8]             512\n",
      "             ReLU-21            [-1, 256, 8, 8]               0\n",
      "          Dropout-22            [-1, 256, 8, 8]               0\n",
      "           Conv2d-23            [-1, 512, 8, 8]       1,179,648\n",
      "        MaxPool2d-24            [-1, 512, 4, 4]               0\n",
      "      BatchNorm2d-25            [-1, 512, 4, 4]           1,024\n",
      "             ReLU-26            [-1, 512, 4, 4]               0\n",
      "          Dropout-27            [-1, 512, 4, 4]               0\n",
      "           Conv2d-28            [-1, 512, 4, 4]       2,359,296\n",
      "      BatchNorm2d-29            [-1, 512, 4, 4]           1,024\n",
      "             ReLU-30            [-1, 512, 4, 4]               0\n",
      "           Conv2d-31            [-1, 512, 4, 4]       2,359,296\n",
      "      BatchNorm2d-32            [-1, 512, 4, 4]           1,024\n",
      "             ReLU-33            [-1, 512, 4, 4]               0\n",
      "    ResidualBlock-34            [-1, 512, 4, 4]               0\n",
      "          Dropout-35            [-1, 512, 4, 4]               0\n",
      "        MaxPool2d-36            [-1, 512, 1, 1]               0\n",
      "           Conv2d-37             [-1, 10, 1, 1]          46,080\n",
      "================================================================\n",
      "Total params: 6,614,080\n",
      "Trainable params: 6,614,080\n",
      "Non-trainable params: 0\n",
      "----------------------------------------------------------------\n",
      "Input size (MB): 0.01\n",
      "Forward/backward pass size (MB): 8.00\n",
      "Params size (MB): 25.23\n",
      "Estimated Total Size (MB): 33.25\n",
      "----------------------------------------------------------------\n"
     ]
    }
   ],
   "source": [
    "from torchsummary import summary\n",
    "use_cuda = torch.cuda.is_available()\n",
    "device = torch.device(\"cuda\" if use_cuda else \"cpu\")\n",
    "print(device)\n",
    "model = ResNet().to(device)\n",
    "model_copy =  ResNet().to(device)\n",
    "summary(model, input_size=(3, 32, 32))"
   ]
  },
  {
   "cell_type": "code",
   "execution_count": 9,
   "id": "68bb5f42-3f6e-4450-be98-eb8d44b7f373",
   "metadata": {},
   "outputs": [
    {
     "name": "stdout",
     "output_type": "stream",
     "text": [
      "LRMIN  0.00191\n",
      "LRMAX  0.191\n"
     ]
    }
   ],
   "source": [
    "from torch.optim.lr_scheduler import OneCycleLR\n",
    "\n",
    "LRMIN = 1.91E-01/100\n",
    "LRMAX = 1.91E-01\n",
    "print('LRMIN ',LRMIN)\n",
    "print('LRMAX ',LRMAX)"
   ]
  },
  {
   "cell_type": "code",
   "execution_count": 12,
   "id": "ac82746c-7dd1-43b2-89f9-a488ea53a704",
   "metadata": {},
   "outputs": [
    {
     "name": "stdout",
     "output_type": "stream",
     "text": [
      "EPOCH: 0\n"
     ]
    },
    {
     "name": "stderr",
     "output_type": "stream",
     "text": [
      "Loss=2.1803746223449707 Batch_id=97 Accuracy=9.99: 100%|██████████| 98/98 [00:24<00:00,  4.00it/s]\n"
     ]
    },
    {
     "name": "stdout",
     "output_type": "stream",
     "text": [
      "\n",
      "Test set: Average loss: 2.2098, Accuracy: 1248/10000 (12.48%)\n",
      "\n",
      "EPOCH: 1\n"
     ]
    },
    {
     "name": "stderr",
     "output_type": "stream",
     "text": [
      "Loss=1.6691985130310059 Batch_id=97 Accuracy=23.13: 100%|██████████| 98/98 [00:24<00:00,  4.07it/s]\n"
     ]
    },
    {
     "name": "stdout",
     "output_type": "stream",
     "text": [
      "\n",
      "Test set: Average loss: 1.9301, Accuracy: 2874/10000 (28.74%)\n",
      "\n",
      "EPOCH: 2\n"
     ]
    },
    {
     "name": "stderr",
     "output_type": "stream",
     "text": [
      "Loss=1.382128119468689 Batch_id=97 Accuracy=41.51: 100%|██████████| 98/98 [00:23<00:00,  4.10it/s] \n"
     ]
    },
    {
     "name": "stdout",
     "output_type": "stream",
     "text": [
      "\n",
      "Test set: Average loss: 1.3897, Accuracy: 4846/10000 (48.46%)\n",
      "\n",
      "EPOCH: 3\n"
     ]
    },
    {
     "name": "stderr",
     "output_type": "stream",
     "text": [
      "Loss=1.1552982330322266 Batch_id=97 Accuracy=52.38: 100%|██████████| 98/98 [00:24<00:00,  4.07it/s]\n"
     ]
    },
    {
     "name": "stdout",
     "output_type": "stream",
     "text": [
      "\n",
      "Test set: Average loss: 1.1387, Accuracy: 5875/10000 (58.75%)\n",
      "\n",
      "EPOCH: 4\n"
     ]
    },
    {
     "name": "stderr",
     "output_type": "stream",
     "text": [
      "Loss=0.9954714775085449 Batch_id=97 Accuracy=60.35: 100%|██████████| 98/98 [00:23<00:00,  4.09it/s]\n"
     ]
    },
    {
     "name": "stdout",
     "output_type": "stream",
     "text": [
      "\n",
      "Test set: Average loss: 1.1289, Accuracy: 6019/10000 (60.19%)\n",
      "\n",
      "EPOCH: 5\n"
     ]
    },
    {
     "name": "stderr",
     "output_type": "stream",
     "text": [
      "Loss=0.8684109449386597 Batch_id=97 Accuracy=64.90: 100%|██████████| 98/98 [00:24<00:00,  4.08it/s]\n"
     ]
    },
    {
     "name": "stdout",
     "output_type": "stream",
     "text": [
      "\n",
      "Test set: Average loss: 1.1709, Accuracy: 6051/10000 (60.51%)\n",
      "\n",
      "EPOCH: 6\n"
     ]
    },
    {
     "name": "stderr",
     "output_type": "stream",
     "text": [
      "Loss=0.8352158069610596 Batch_id=97 Accuracy=67.97: 100%|██████████| 98/98 [00:23<00:00,  4.09it/s]\n"
     ]
    },
    {
     "name": "stdout",
     "output_type": "stream",
     "text": [
      "\n",
      "Test set: Average loss: 1.2199, Accuracy: 5909/10000 (59.09%)\n",
      "\n",
      "EPOCH: 7\n"
     ]
    },
    {
     "name": "stderr",
     "output_type": "stream",
     "text": [
      "Loss=0.8326122760772705 Batch_id=97 Accuracy=70.99: 100%|██████████| 98/98 [00:23<00:00,  4.10it/s]\n"
     ]
    },
    {
     "name": "stdout",
     "output_type": "stream",
     "text": [
      "\n",
      "Test set: Average loss: 0.8176, Accuracy: 7186/10000 (71.86%)\n",
      "\n",
      "EPOCH: 8\n"
     ]
    },
    {
     "name": "stderr",
     "output_type": "stream",
     "text": [
      "Loss=0.7637774348258972 Batch_id=97 Accuracy=73.47: 100%|██████████| 98/98 [00:23<00:00,  4.09it/s]\n"
     ]
    },
    {
     "name": "stdout",
     "output_type": "stream",
     "text": [
      "\n",
      "Test set: Average loss: 0.7484, Accuracy: 7416/10000 (74.16%)\n",
      "\n",
      "EPOCH: 9\n"
     ]
    },
    {
     "name": "stderr",
     "output_type": "stream",
     "text": [
      "Loss=0.8158518671989441 Batch_id=97 Accuracy=75.74: 100%|██████████| 98/98 [00:23<00:00,  4.09it/s]\n"
     ]
    },
    {
     "name": "stdout",
     "output_type": "stream",
     "text": [
      "\n",
      "Test set: Average loss: 0.7629, Accuracy: 7411/10000 (74.11%)\n",
      "\n",
      "EPOCH: 10\n"
     ]
    },
    {
     "name": "stderr",
     "output_type": "stream",
     "text": [
      "Loss=0.5910587906837463 Batch_id=97 Accuracy=77.70: 100%|██████████| 98/98 [00:23<00:00,  4.08it/s]\n"
     ]
    },
    {
     "name": "stdout",
     "output_type": "stream",
     "text": [
      "\n",
      "Test set: Average loss: 0.6238, Accuracy: 7855/10000 (78.55%)\n",
      "\n",
      "EPOCH: 11\n"
     ]
    },
    {
     "name": "stderr",
     "output_type": "stream",
     "text": [
      "Loss=0.5654299259185791 Batch_id=97 Accuracy=79.12: 100%|██████████| 98/98 [00:23<00:00,  4.10it/s]\n"
     ]
    },
    {
     "name": "stdout",
     "output_type": "stream",
     "text": [
      "\n",
      "Test set: Average loss: 0.6908, Accuracy: 7637/10000 (76.37%)\n",
      "\n",
      "EPOCH: 12\n"
     ]
    },
    {
     "name": "stderr",
     "output_type": "stream",
     "text": [
      "Loss=0.47991743683815 Batch_id=97 Accuracy=80.36: 100%|██████████| 98/98 [00:23<00:00,  4.08it/s]   \n"
     ]
    },
    {
     "name": "stdout",
     "output_type": "stream",
     "text": [
      "\n",
      "Test set: Average loss: 0.5598, Accuracy: 8094/10000 (80.94%)\n",
      "\n",
      "EPOCH: 13\n"
     ]
    },
    {
     "name": "stderr",
     "output_type": "stream",
     "text": [
      "Loss=0.48349422216415405 Batch_id=97 Accuracy=81.74: 100%|██████████| 98/98 [00:23<00:00,  4.10it/s]\n"
     ]
    },
    {
     "name": "stdout",
     "output_type": "stream",
     "text": [
      "\n",
      "Test set: Average loss: 0.5186, Accuracy: 8188/10000 (81.88%)\n",
      "\n",
      "EPOCH: 14\n"
     ]
    },
    {
     "name": "stderr",
     "output_type": "stream",
     "text": [
      "Loss=0.5160859227180481 Batch_id=97 Accuracy=82.47: 100%|██████████| 98/98 [00:24<00:00,  4.08it/s] \n"
     ]
    },
    {
     "name": "stdout",
     "output_type": "stream",
     "text": [
      "\n",
      "Test set: Average loss: 0.4975, Accuracy: 8279/10000 (82.79%)\n",
      "\n",
      "EPOCH: 15\n"
     ]
    },
    {
     "name": "stderr",
     "output_type": "stream",
     "text": [
      "Loss=0.49252450466156006 Batch_id=97 Accuracy=83.28: 100%|██████████| 98/98 [00:23<00:00,  4.10it/s]\n"
     ]
    },
    {
     "name": "stdout",
     "output_type": "stream",
     "text": [
      "\n",
      "Test set: Average loss: 0.5007, Accuracy: 8303/10000 (83.03%)\n",
      "\n",
      "EPOCH: 16\n"
     ]
    },
    {
     "name": "stderr",
     "output_type": "stream",
     "text": [
      "Loss=0.4464157223701477 Batch_id=97 Accuracy=84.26: 100%|██████████| 98/98 [00:23<00:00,  4.10it/s] \n"
     ]
    },
    {
     "name": "stdout",
     "output_type": "stream",
     "text": [
      "\n",
      "Test set: Average loss: 0.4315, Accuracy: 8530/10000 (85.30%)\n",
      "\n",
      "EPOCH: 17\n"
     ]
    },
    {
     "name": "stderr",
     "output_type": "stream",
     "text": [
      "Loss=0.4822341799736023 Batch_id=97 Accuracy=84.91: 100%|██████████| 98/98 [00:23<00:00,  4.10it/s] \n"
     ]
    },
    {
     "name": "stdout",
     "output_type": "stream",
     "text": [
      "\n",
      "Test set: Average loss: 0.4163, Accuracy: 8567/10000 (85.67%)\n",
      "\n",
      "EPOCH: 18\n"
     ]
    },
    {
     "name": "stderr",
     "output_type": "stream",
     "text": [
      "Loss=0.44612666964530945 Batch_id=97 Accuracy=85.90: 100%|██████████| 98/98 [00:23<00:00,  4.09it/s]\n"
     ]
    },
    {
     "name": "stdout",
     "output_type": "stream",
     "text": [
      "\n",
      "Test set: Average loss: 0.4074, Accuracy: 8605/10000 (86.05%)\n",
      "\n",
      "EPOCH: 19\n"
     ]
    },
    {
     "name": "stderr",
     "output_type": "stream",
     "text": [
      "Loss=0.3203910291194916 Batch_id=97 Accuracy=86.64: 100%|██████████| 98/98 [00:24<00:00,  4.08it/s] \n"
     ]
    },
    {
     "name": "stdout",
     "output_type": "stream",
     "text": [
      "\n",
      "Test set: Average loss: 0.4130, Accuracy: 8598/10000 (85.98%)\n",
      "\n",
      "EPOCH: 20\n"
     ]
    },
    {
     "name": "stderr",
     "output_type": "stream",
     "text": [
      "Loss=0.34859856963157654 Batch_id=97 Accuracy=87.43: 100%|██████████| 98/98 [00:23<00:00,  4.10it/s]\n"
     ]
    },
    {
     "name": "stdout",
     "output_type": "stream",
     "text": [
      "\n",
      "Test set: Average loss: 0.3704, Accuracy: 8756/10000 (87.56%)\n",
      "\n",
      "EPOCH: 21\n"
     ]
    },
    {
     "name": "stderr",
     "output_type": "stream",
     "text": [
      "Loss=0.39574092626571655 Batch_id=97 Accuracy=88.35: 100%|██████████| 98/98 [00:24<00:00,  4.07it/s]\n"
     ]
    },
    {
     "name": "stdout",
     "output_type": "stream",
     "text": [
      "\n",
      "Test set: Average loss: 0.3458, Accuracy: 8818/10000 (88.18%)\n",
      "\n",
      "EPOCH: 22\n"
     ]
    },
    {
     "name": "stderr",
     "output_type": "stream",
     "text": [
      "Loss=0.3438170850276947 Batch_id=97 Accuracy=88.81: 100%|██████████| 98/98 [00:23<00:00,  4.10it/s] \n"
     ]
    },
    {
     "name": "stdout",
     "output_type": "stream",
     "text": [
      "\n",
      "Test set: Average loss: 0.3413, Accuracy: 8824/10000 (88.24%)\n",
      "\n",
      "EPOCH: 23\n"
     ]
    },
    {
     "name": "stderr",
     "output_type": "stream",
     "text": [
      "Loss=0.3284001350402832 Batch_id=97 Accuracy=89.72: 100%|██████████| 98/98 [00:24<00:00,  4.08it/s] \n"
     ]
    },
    {
     "name": "stdout",
     "output_type": "stream",
     "text": [
      "\n",
      "Test set: Average loss: 0.3242, Accuracy: 8879/10000 (88.79%)\n",
      "\n",
      "EPOCH: 24\n"
     ]
    },
    {
     "name": "stderr",
     "output_type": "stream",
     "text": [
      "Loss=0.3118174076080322 Batch_id=97 Accuracy=89.91: 100%|██████████| 98/98 [00:23<00:00,  4.10it/s] \n"
     ]
    },
    {
     "name": "stdout",
     "output_type": "stream",
     "text": [
      "\n",
      "Test set: Average loss: 0.3217, Accuracy: 8888/10000 (88.88%)\n",
      "\n"
     ]
    }
   ],
   "source": [
    "optimizer_copy = optim.Adam(model_copy.parameters(), lr=LRMIN)  # Set initial LR to 0.01\n",
    "scheduler = OneCycleLR(optimizer_copy, max_lr=LRMAX, total_steps=25, epochs=5, steps_per_epoch=len(train_loader), pct_start=0.3, anneal_strategy='linear', div_factor=10.0, three_phase=False, final_div_factor=1e4, base_momentum=0.85, max_momentum=0.95)\n",
    "\n",
    "EPOCHS = 25\n",
    "for epoch in range(EPOCHS):\n",
    "    print(\"EPOCH:\", epoch)\n",
    "    utils.train(model_copy, device, train_loader, optimizer_copy, epoch)\n",
    "    utils.test(model_copy, device, test_loader)\n",
    "    scheduler.step()"
   ]
  },
  {
   "cell_type": "markdown",
   "id": "7d561d50-9fa6-4d13-bcb4-563a008f2b60",
   "metadata": {},
   "source": [
    "# Target"
   ]
  },
  {
   "cell_type": "markdown",
   "id": "166a9f27-a0e5-4db0-b7f3-6809d4b4fb53",
   "metadata": {},
   "source": [
    "1. Write a Architecture like\n",
    "\t1. PrepLayer - Conv 3x3 s1, p1) >> BN >> RELU [64k]\n",
    "    \n",
    "\t2. Layer1 -\n",
    "\t\t1. X = Conv 3x3 (s1, p1) >> MaxPool2D >> BN >> RELU [128k]\n",
    "\t\t2. R1 = ResBlock( (Conv-BN-ReLU-Conv-BN-ReLU))(X) [128k]\n",
    "\t\t3. Add(X, R1)\n",
    "     \n",
    "\t3. Layer 2 -\n",
    "\t\t1. Conv 3x3 [256k]\n",
    "\t\t2. MaxPooling2D\n",
    "\t\t3. BN\n",
    "\t\t4. ReLU\n",
    "     \n",
    "\t4. Layer 3 \n",
    "\t\t1. X = Conv 3x3 (s1, p1) >> MaxPool2D >> BN >> RELU [512k]\n",
    "\t\t2. R2 = ResBlock( (Conv-BN-ReLU-Conv-BN-ReLU))(X) [512k]\n",
    "\t\t3. Add(X, R2)\n",
    "     \n",
    "\t5. MaxPooling with Kernel Size 4\n",
    "    \n",
    "\t6. FC Layer\n",
    "    \n",
    "\t7. SoftMax\n",
    "2. Uses One Cycle Policy such that:\n",
    "\t1. Total Epochs = 24\n",
    "\t2. Max at Epoch = 5\n",
    "\t3. LRMIN = FIND\n",
    "\t4. LRMAX = FIND\n",
    "\t5. NO Annihilation\n",
    "\n",
    "3. Uses this transform -RandomCrop 32, 32 (after padding of 4) >> FlipLR >> Followed by CutOut(8, 8)\n",
    "4. Batch size = 512\n",
    "5. Use ADAM and CrossEntropyLoss\n",
    "6. Target Accuracy: 90%\n",
    "7. NO score if your code is not modular. Your collab must be importing your GitHub package, and then just running the model. \n",
    "\tI should be able to find the custom_resnet.py model in your MASTER GitHub repo that you'd be training. repo that you'd be training. yLoss\r\n",
    "Target Accuracy: 90%"
   ]
  },
  {
   "cell_type": "markdown",
   "id": "342162bb-7d45-46e1-8ea7-f58ef1f017ef",
   "metadata": {},
   "source": [
    "# Result"
   ]
  },
  {
   "cell_type": "markdown",
   "id": "1472342c-7e17-496d-b2d6-f27b6a669577",
   "metadata": {},
   "source": [
    "1. Parameters: 6,614,080\n",
    "\n",
    "2. Best Train Accuracy: 89.91% at 24th epoch\n",
    "   \n",
    "3. Best Test Accuracy: 88.88 at 24th epochh)"
   ]
  },
  {
   "cell_type": "markdown",
   "id": "90a5845a-46a5-4c5a-b3af-7c5e23a84a87",
   "metadata": {},
   "source": [
    "# Analysis"
   ]
  },
  {
   "cell_type": "markdown",
   "id": "049ccd7e-307a-4693-9355-7a12196b7a67",
   "metadata": {},
   "source": [
    "1. We have implemented our model like ResNet architecture\n",
    "\n",
    "2. We implemented Adam optimizer and CrossEntropyLoss and got higher and faster accuracy according to our model architecture and problem statment\n",
    "\n",
    "3. Used albumentation transformation library of RandomCrop 32, 32 (after padding of 4) >> FlipLR >> Followed by CutOut(8, 8)\n",
    "\n",
    "4. If we train our model for higher epoch then we can get slighlty more accuracy\n",
    "\n",
    "5. There is some overfitting in our model as train accuracy is slightly higher than test accuracy"
   ]
  },
  {
   "cell_type": "code",
   "execution_count": null,
   "id": "f2256667-ae10-4bc3-98d6-0d369eef895b",
   "metadata": {},
   "outputs": [],
   "source": []
  }
 ],
 "metadata": {
  "kernelspec": {
   "display_name": "Python 3 (ipykernel)",
   "language": "python",
   "name": "python3"
  },
  "language_info": {
   "codemirror_mode": {
    "name": "ipython",
    "version": 3
   },
   "file_extension": ".py",
   "mimetype": "text/x-python",
   "name": "python",
   "nbconvert_exporter": "python",
   "pygments_lexer": "ipython3",
   "version": "3.11.7"
  }
 },
 "nbformat": 4,
 "nbformat_minor": 5
}
