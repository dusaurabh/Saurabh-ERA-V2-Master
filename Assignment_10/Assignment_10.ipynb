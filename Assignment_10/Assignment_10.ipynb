{
 "cells": [
  {
   "cell_type": "code",
   "execution_count": 1,
   "id": "2a7d6adc-d5c9-4b86-bef3-d1a6839eedcb",
   "metadata": {},
   "outputs": [
    {
     "name": "stdout",
     "output_type": "stream",
     "text": [
      "Collecting GitPython\n",
      "  Downloading GitPython-3.1.43-py3-none-any.whl.metadata (13 kB)\n",
      "Collecting gitdb<5,>=4.0.1 (from GitPython)\n",
      "  Downloading gitdb-4.0.11-py3-none-any.whl.metadata (1.2 kB)\n",
      "Collecting smmap<6,>=3.0.1 (from gitdb<5,>=4.0.1->GitPython)\n",
      "  Downloading smmap-5.0.1-py3-none-any.whl.metadata (4.3 kB)\n",
      "Downloading GitPython-3.1.43-py3-none-any.whl (207 kB)\n",
      "   ---------------------------------------- 0.0/207.3 kB ? eta -:--:--\n",
      "   ----------- ---------------------------- 61.4/207.3 kB 1.7 MB/s eta 0:00:01\n",
      "   ---------------------------------------- 207.3/207.3 kB 3.1 MB/s eta 0:00:00\n",
      "Downloading gitdb-4.0.11-py3-none-any.whl (62 kB)\n",
      "   ---------------------------------------- 0.0/62.7 kB ? eta -:--:--\n",
      "   ---------------------------------------- 62.7/62.7 kB 3.5 MB/s eta 0:00:00\n",
      "Downloading smmap-5.0.1-py3-none-any.whl (24 kB)\n",
      "Installing collected packages: smmap, gitdb, GitPython\n",
      "Successfully installed GitPython-3.1.43 gitdb-4.0.11 smmap-5.0.1\n",
      "Note: you may need to restart the kernel to use updated packages.\n"
     ]
    }
   ],
   "source": [
    "pip install GitPython"
   ]
  },
  {
   "cell_type": "code",
   "execution_count": 18,
   "id": "a7b52b79-a72d-4ba0-b95f-08a7b118bc77",
   "metadata": {},
   "outputs": [],
   "source": [
    "from __future__ import print_function\n",
    "import torch\n",
    "\n",
    "import torch.optim as optim\n",
    "from torchvision import datasets, transforms\n",
    "\n",
    "from PIL import Image\n",
    "import time\n",
    "import cv2\n",
    "import matplotlib.pyplot as plt\n",
    "import numpy as np\n",
    "import utils\n",
    "import os\n",
    "import git\n",
    "from torchsummary import summary"
   ]
  },
  {
   "cell_type": "code",
   "execution_count": 2,
   "id": "b4361001-35f9-40b2-93b6-2e6996ceb2f0",
   "metadata": {},
   "outputs": [
    {
     "data": {
      "text/plain": [
       "<git.repo.base.Repo 'C:\\\\Users\\\\Saurabh\\\\Pytorch\\\\S10\\\\Saurabh-ERA-V2-Master\\\\.git'>"
      ]
     },
     "execution_count": 2,
     "metadata": {},
     "output_type": "execute_result"
    }
   ],
   "source": [
    "# Clone the repository\n",
    "git.Repo.clone_from(\"https://github.com/dusaurabh/Saurabh-ERA-V2-Master.git\", \"Saurabh-ERA-V2-Master\")"
   ]
  },
  {
   "cell_type": "code",
   "execution_count": 12,
   "id": "3587fe2b-0757-4906-9574-4ab3fff637f9",
   "metadata": {},
   "outputs": [
    {
     "name": "stdout",
     "output_type": "stream",
     "text": [
      "['.git', 'Assignment_10', 'Miscellaneous', 'models', 'One_Cycle_Policy', 'README.md']\n"
     ]
    }
   ],
   "source": [
    "import os\n",
    "import sys\n",
    "\n",
    "# Get the full path to the repository directory\n",
    "repo_path = os.path.abspath('Saurabh-ERA-V2-Master')\n",
    "\n",
    "# Append the repository path\n",
    "sys.path.append(repo_path)\n",
    "\n",
    "# Check the contents of the directory\n",
    "print(os.listdir(repo_path))\n",
    "\n",
    "# Try importing the model\n",
    "from models import ResNet  # Assuming ResNet is defined in models.py\n",
    "from Miscellaneous import utils"
   ]
  },
  {
   "cell_type": "code",
   "execution_count": 13,
   "id": "012901e5-9f78-4f1e-9758-089870825ab2",
   "metadata": {},
   "outputs": [],
   "source": [
    "from utils import train_transforms, test_transforms, train_test_data_loader, get_training_images"
   ]
  },
  {
   "cell_type": "code",
   "execution_count": 14,
   "id": "77dd2d8a-05b3-4749-9fa1-45b1039b0520",
   "metadata": {},
   "outputs": [],
   "source": [
    "class CIFAR10Dataset(datasets.CIFAR10):\n",
    "    def __init__(self, root, train=True, transform=None, target_transform=None, download=False):\n",
    "        super().__init__(root, train=train, transform=transform, target_transform=target_transform, download=download)\n",
    "\n",
    "    def __getitem__(self, index):\n",
    "        image, label = self.data[index], self.targets[index]\n",
    "        if self.transforms is not None:\n",
    "          transformed = self.transform(image=image)\n",
    "          image = transformed[\"image\"]\n",
    "        return image, label"
   ]
  },
  {
   "cell_type": "code",
   "execution_count": 15,
   "id": "9c7a5998-743b-46ca-98b2-5f222fc93834",
   "metadata": {},
   "outputs": [
    {
     "name": "stdout",
     "output_type": "stream",
     "text": [
      "Files already downloaded and verified\n",
      "Files already downloaded and verified\n"
     ]
    }
   ],
   "source": [
    "train = CIFAR10Dataset(root='./data', train=True, transform=train_transforms, download=True)\n",
    "test = CIFAR10Dataset(root='./data', train=False, transform=test_transforms, download=True)"
   ]
  },
  {
   "cell_type": "code",
   "execution_count": 16,
   "id": "f8c6a5e1-6a71-4dfe-b37e-e6db46c61bbf",
   "metadata": {},
   "outputs": [
    {
     "name": "stdout",
     "output_type": "stream",
     "text": [
      "CUDA Available? True\n"
     ]
    }
   ],
   "source": [
    "train_loader, test_loader = train_test_data_loader(train,test)"
   ]
  },
  {
   "cell_type": "code",
   "execution_count": 17,
   "id": "f6a1112d-211d-4978-a524-ea9d953c1881",
   "metadata": {},
   "outputs": [
    {
     "name": "stderr",
     "output_type": "stream",
     "text": [
      "Clipping input data to the valid range for imshow with RGB data ([0..1] for floats or [0..255] for integers).\n"
     ]
    },
    {
     "data": {
      "image/png": "[encoded data removed]",
      "text/plain": [
       "<Figure size 640x480 with 1 Axes>"
      ]
     },
     "metadata": {},
     "output_type": "display_data"
    },
    {
     "data": {
      "text/plain": [
       "'ship  bird  cat   dog  '"
      ]
     },
     "execution_count": 17,
     "metadata": {},
     "output_type": "execute_result"
    }
   ],
   "source": [
    "get_training_images(train_loader)"
   ]
  },
  {
   "cell_type": "code",
   "execution_count": 19,
   "id": "d051d5c0-57d1-479f-a9cb-1ad4857ed081",
   "metadata": {},
   "outputs": [
    {
     "name": "stdout",
     "output_type": "stream",
     "text": [
      "cuda\n",
      "----------------------------------------------------------------\n",
      "        Layer (type)               Output Shape         Param #\n",
      "================================================================\n",
      "            Conv2d-1           [-1, 64, 32, 32]           1,728\n",
      "       BatchNorm2d-2           [-1, 64, 32, 32]             128\n",
      "              ReLU-3           [-1, 64, 32, 32]               0\n",
      "           Dropout-4           [-1, 64, 32, 32]               0\n",
      "            Conv2d-5          [-1, 128, 32, 32]          73,728\n",
      "         MaxPool2d-6          [-1, 128, 16, 16]               0\n",
      "       BatchNorm2d-7          [-1, 128, 16, 16]             256\n",
      "              ReLU-8          [-1, 128, 16, 16]               0\n",
      "           Dropout-9          [-1, 128, 16, 16]               0\n",
      "           Conv2d-10          [-1, 128, 16, 16]         147,456\n",
      "      BatchNorm2d-11          [-1, 128, 16, 16]             256\n",
      "             ReLU-12          [-1, 128, 16, 16]               0\n",
      "           Conv2d-13          [-1, 128, 16, 16]         147,456\n",
      "      BatchNorm2d-14          [-1, 128, 16, 16]             256\n",
      "             ReLU-15          [-1, 128, 16, 16]               0\n",
      "    ResidualBlock-16          [-1, 128, 16, 16]               0\n",
      "          Dropout-17          [-1, 128, 16, 16]               0\n",
      "           Conv2d-18          [-1, 256, 16, 16]         294,912\n",
      "        MaxPool2d-19            [-1, 256, 8, 8]               0\n",
      "      BatchNorm2d-20            [-1, 256, 8, 8]             512\n",
      "             ReLU-21            [-1, 256, 8, 8]               0\n",
      "          Dropout-22            [-1, 256, 8, 8]               0\n",
      "           Conv2d-23            [-1, 512, 8, 8]       1,179,648\n",
      "        MaxPool2d-24            [-1, 512, 4, 4]               0\n",
      "      BatchNorm2d-25            [-1, 512, 4, 4]           1,024\n",
      "             ReLU-26            [-1, 512, 4, 4]               0\n",
      "          Dropout-27            [-1, 512, 4, 4]               0\n",
      "           Conv2d-28            [-1, 512, 4, 4]       2,359,296\n",
      "      BatchNorm2d-29            [-1, 512, 4, 4]           1,024\n",
      "             ReLU-30            [-1, 512, 4, 4]               0\n",
      "           Conv2d-31            [-1, 512, 4, 4]       2,359,296\n",
      "      BatchNorm2d-32            [-1, 512, 4, 4]           1,024\n",
      "             ReLU-33            [-1, 512, 4, 4]               0\n",
      "    ResidualBlock-34            [-1, 512, 4, 4]               0\n",
      "          Dropout-35            [-1, 512, 4, 4]               0\n",
      "        MaxPool2d-36            [-1, 512, 1, 1]               0\n",
      "           Conv2d-37             [-1, 10, 1, 1]          46,080\n",
      "================================================================\n",
      "Total params: 6,614,080\n",
      "Trainable params: 6,614,080\n",
      "Non-trainable params: 0\n",
      "----------------------------------------------------------------\n",
      "Input size (MB): 0.01\n",
      "Forward/backward pass size (MB): 8.00\n",
      "Params size (MB): 25.23\n",
      "Estimated Total Size (MB): 33.25\n",
      "----------------------------------------------------------------\n"
     ]
    }
   ],
   "source": [
    "use_cuda = torch.cuda.is_available()\n",
    "device = torch.device(\"cuda\" if use_cuda else \"cpu\")\n",
    "print(device)\n",
    "model = ResNet().to(device)\n",
    "model_copy =  ResNet().to(device)\n",
    "summary(model, input_size=(3, 32, 32))"
   ]
  },
  {
   "cell_type": "code",
   "execution_count": 20,
   "id": "d81c06bc-ae46-4966-a6ed-c689d3178d62",
   "metadata": {},
   "outputs": [
    {
     "name": "stdout",
     "output_type": "stream",
     "text": [
      "LRMIN  0.00191\n",
      "LRMAX  0.191\n"
     ]
    }
   ],
   "source": [
    "from torch.optim.lr_scheduler import OneCycleLR\n",
    "\n",
    "LRMIN = 1.91E-01/100 \n",
    "LRMAX = 1.91E-01 # Value derived from OneCycle Policy Ipython notebook\n",
    "print('LRMIN ',LRMIN)\n",
    "print('LRMAX ',LRMAX)"
   ]
  },
  {
   "cell_type": "code",
   "execution_count": 21,
   "id": "b2f7e86b-0746-4816-996e-ad7f0b33fee8",
   "metadata": {},
   "outputs": [
    {
     "name": "stdout",
     "output_type": "stream",
     "text": [
      "EPOCH: 0\n"
     ]
    },
    {
     "name": "stderr",
     "output_type": "stream",
     "text": [
      "Loss=2.097559690475464 Batch_id=97 Accuracy=14.23: 100%|██████████| 98/98 [00:29<00:00,  3.30it/s] \n"
     ]
    },
    {
     "name": "stdout",
     "output_type": "stream",
     "text": [
      "\n",
      "Test set: Average loss: 2.0703, Accuracy: 2137/10000 (21.37%)\n",
      "\n",
      "EPOCH: 1\n"
     ]
    },
    {
     "name": "stderr",
     "output_type": "stream",
     "text": [
      "Loss=1.630171775817871 Batch_id=97 Accuracy=32.51: 100%|██████████| 98/98 [00:28<00:00,  3.45it/s] \n"
     ]
    },
    {
     "name": "stdout",
     "output_type": "stream",
     "text": [
      "\n",
      "Test set: Average loss: 1.5433, Accuracy: 4251/10000 (42.51%)\n",
      "\n",
      "EPOCH: 2\n"
     ]
    },
    {
     "name": "stderr",
     "output_type": "stream",
     "text": [
      "Loss=1.3428928852081299 Batch_id=97 Accuracy=45.15: 100%|██████████| 98/98 [00:28<00:00,  3.44it/s]\n"
     ]
    },
    {
     "name": "stdout",
     "output_type": "stream",
     "text": [
      "\n",
      "Test set: Average loss: 1.3685, Accuracy: 4939/10000 (49.39%)\n",
      "\n",
      "EPOCH: 3\n"
     ]
    },
    {
     "name": "stderr",
     "output_type": "stream",
     "text": [
      "Loss=1.1755255460739136 Batch_id=97 Accuracy=54.18: 100%|██████████| 98/98 [00:28<00:00,  3.44it/s]\n"
     ]
    },
    {
     "name": "stdout",
     "output_type": "stream",
     "text": [
      "\n",
      "Test set: Average loss: 1.4368, Accuracy: 5343/10000 (53.43%)\n",
      "\n",
      "EPOCH: 4\n"
     ]
    },
    {
     "name": "stderr",
     "output_type": "stream",
     "text": [
      "Loss=0.9991120100021362 Batch_id=97 Accuracy=59.65: 100%|██████████| 98/98 [00:28<00:00,  3.44it/s]\n"
     ]
    },
    {
     "name": "stdout",
     "output_type": "stream",
     "text": [
      "\n",
      "Test set: Average loss: 1.1625, Accuracy: 5806/10000 (58.06%)\n",
      "\n",
      "EPOCH: 5\n"
     ]
    },
    {
     "name": "stderr",
     "output_type": "stream",
     "text": [
      "Loss=1.0908288955688477 Batch_id=97 Accuracy=61.46: 100%|██████████| 98/98 [00:28<00:00,  3.41it/s]\n"
     ]
    },
    {
     "name": "stdout",
     "output_type": "stream",
     "text": [
      "\n",
      "Test set: Average loss: 1.1484, Accuracy: 5795/10000 (57.95%)\n",
      "\n",
      "EPOCH: 6\n"
     ]
    },
    {
     "name": "stderr",
     "output_type": "stream",
     "text": [
      "Loss=0.9051278233528137 Batch_id=97 Accuracy=64.27: 100%|██████████| 98/98 [00:28<00:00,  3.44it/s]\n"
     ]
    },
    {
     "name": "stdout",
     "output_type": "stream",
     "text": [
      "\n",
      "Test set: Average loss: 0.9351, Accuracy: 6749/10000 (67.49%)\n",
      "\n",
      "EPOCH: 7\n"
     ]
    },
    {
     "name": "stderr",
     "output_type": "stream",
     "text": [
      "Loss=0.9968487024307251 Batch_id=97 Accuracy=67.73: 100%|██████████| 98/98 [00:28<00:00,  3.42it/s]\n"
     ]
    },
    {
     "name": "stdout",
     "output_type": "stream",
     "text": [
      "\n",
      "Test set: Average loss: 0.8061, Accuracy: 7198/10000 (71.98%)\n",
      "\n",
      "EPOCH: 8\n"
     ]
    },
    {
     "name": "stderr",
     "output_type": "stream",
     "text": [
      "Loss=0.6962960958480835 Batch_id=97 Accuracy=71.69: 100%|██████████| 98/98 [00:28<00:00,  3.42it/s]\n"
     ]
    },
    {
     "name": "stdout",
     "output_type": "stream",
     "text": [
      "\n",
      "Test set: Average loss: 0.7487, Accuracy: 7474/10000 (74.74%)\n",
      "\n",
      "EPOCH: 9\n"
     ]
    },
    {
     "name": "stderr",
     "output_type": "stream",
     "text": [
      "Loss=0.7729271650314331 Batch_id=97 Accuracy=73.62: 100%|██████████| 98/98 [00:28<00:00,  3.40it/s]\n"
     ]
    },
    {
     "name": "stdout",
     "output_type": "stream",
     "text": [
      "\n",
      "Test set: Average loss: 0.7295, Accuracy: 7487/10000 (74.87%)\n",
      "\n",
      "EPOCH: 10\n"
     ]
    },
    {
     "name": "stderr",
     "output_type": "stream",
     "text": [
      "Loss=0.7797805070877075 Batch_id=97 Accuracy=75.01: 100%|██████████| 98/98 [00:28<00:00,  3.43it/s]\n"
     ]
    },
    {
     "name": "stdout",
     "output_type": "stream",
     "text": [
      "\n",
      "Test set: Average loss: 0.6463, Accuracy: 7818/10000 (78.18%)\n",
      "\n",
      "EPOCH: 11\n"
     ]
    },
    {
     "name": "stderr",
     "output_type": "stream",
     "text": [
      "Loss=0.6954625844955444 Batch_id=97 Accuracy=76.78: 100%|██████████| 98/98 [00:28<00:00,  3.43it/s]\n"
     ]
    },
    {
     "name": "stdout",
     "output_type": "stream",
     "text": [
      "\n",
      "Test set: Average loss: 0.7093, Accuracy: 7586/10000 (75.86%)\n",
      "\n",
      "EPOCH: 12\n"
     ]
    },
    {
     "name": "stderr",
     "output_type": "stream",
     "text": [
      "Loss=0.6656419038772583 Batch_id=97 Accuracy=78.14: 100%|██████████| 98/98 [00:28<00:00,  3.42it/s]\n"
     ]
    },
    {
     "name": "stdout",
     "output_type": "stream",
     "text": [
      "\n",
      "Test set: Average loss: 0.7174, Accuracy: 7447/10000 (74.47%)\n",
      "\n",
      "EPOCH: 13\n"
     ]
    },
    {
     "name": "stderr",
     "output_type": "stream",
     "text": [
      "Loss=0.6181319952011108 Batch_id=97 Accuracy=79.06: 100%|██████████| 98/98 [00:28<00:00,  3.42it/s]\n"
     ]
    },
    {
     "name": "stdout",
     "output_type": "stream",
     "text": [
      "\n",
      "Test set: Average loss: 0.5944, Accuracy: 7989/10000 (79.89%)\n",
      "\n",
      "EPOCH: 14\n"
     ]
    },
    {
     "name": "stderr",
     "output_type": "stream",
     "text": [
      "Loss=0.5807711482048035 Batch_id=97 Accuracy=80.06: 100%|██████████| 98/98 [00:28<00:00,  3.40it/s] \n"
     ]
    },
    {
     "name": "stdout",
     "output_type": "stream",
     "text": [
      "\n",
      "Test set: Average loss: 0.5704, Accuracy: 8055/10000 (80.55%)\n",
      "\n",
      "EPOCH: 15\n"
     ]
    },
    {
     "name": "stderr",
     "output_type": "stream",
     "text": [
      "Loss=0.5352509617805481 Batch_id=97 Accuracy=81.13: 100%|██████████| 98/98 [00:28<00:00,  3.39it/s] \n"
     ]
    },
    {
     "name": "stdout",
     "output_type": "stream",
     "text": [
      "\n",
      "Test set: Average loss: 0.5108, Accuracy: 8286/10000 (82.86%)\n",
      "\n",
      "EPOCH: 16\n"
     ]
    },
    {
     "name": "stderr",
     "output_type": "stream",
     "text": [
      "Loss=0.4953555464744568 Batch_id=97 Accuracy=82.09: 100%|██████████| 98/98 [00:28<00:00,  3.42it/s] \n"
     ]
    },
    {
     "name": "stdout",
     "output_type": "stream",
     "text": [
      "\n",
      "Test set: Average loss: 0.5637, Accuracy: 8067/10000 (80.67%)\n",
      "\n",
      "EPOCH: 17\n"
     ]
    },
    {
     "name": "stderr",
     "output_type": "stream",
     "text": [
      "Loss=0.49142318964004517 Batch_id=97 Accuracy=83.08: 100%|██████████| 98/98 [00:28<00:00,  3.40it/s]\n"
     ]
    },
    {
     "name": "stdout",
     "output_type": "stream",
     "text": [
      "\n",
      "Test set: Average loss: 0.5067, Accuracy: 8309/10000 (83.09%)\n",
      "\n",
      "EPOCH: 18\n"
     ]
    },
    {
     "name": "stderr",
     "output_type": "stream",
     "text": [
      "Loss=0.5063279867172241 Batch_id=97 Accuracy=83.75: 100%|██████████| 98/98 [00:29<00:00,  3.37it/s] \n"
     ]
    },
    {
     "name": "stdout",
     "output_type": "stream",
     "text": [
      "\n",
      "Test set: Average loss: 0.4538, Accuracy: 8477/10000 (84.77%)\n",
      "\n",
      "EPOCH: 19\n"
     ]
    },
    {
     "name": "stderr",
     "output_type": "stream",
     "text": [
      "Loss=0.46059125661849976 Batch_id=97 Accuracy=84.50: 100%|██████████| 98/98 [00:29<00:00,  3.27it/s]\n"
     ]
    },
    {
     "name": "stdout",
     "output_type": "stream",
     "text": [
      "\n",
      "Test set: Average loss: 0.4381, Accuracy: 8514/10000 (85.14%)\n",
      "\n",
      "EPOCH: 20\n"
     ]
    },
    {
     "name": "stderr",
     "output_type": "stream",
     "text": [
      "Loss=0.39671480655670166 Batch_id=97 Accuracy=85.16: 100%|██████████| 98/98 [00:28<00:00,  3.41it/s]\n"
     ]
    },
    {
     "name": "stdout",
     "output_type": "stream",
     "text": [
      "\n",
      "Test set: Average loss: 0.4361, Accuracy: 8537/10000 (85.37%)\n",
      "\n",
      "EPOCH: 21\n"
     ]
    },
    {
     "name": "stderr",
     "output_type": "stream",
     "text": [
      "Loss=0.4503440260887146 Batch_id=97 Accuracy=85.85: 100%|██████████| 98/98 [00:28<00:00,  3.42it/s] \n"
     ]
    },
    {
     "name": "stdout",
     "output_type": "stream",
     "text": [
      "\n",
      "Test set: Average loss: 0.4048, Accuracy: 8666/10000 (86.66%)\n",
      "\n",
      "EPOCH: 22\n"
     ]
    },
    {
     "name": "stderr",
     "output_type": "stream",
     "text": [
      "Loss=0.4084394574165344 Batch_id=97 Accuracy=86.87: 100%|██████████| 98/98 [00:28<00:00,  3.44it/s] \n"
     ]
    },
    {
     "name": "stdout",
     "output_type": "stream",
     "text": [
      "\n",
      "Test set: Average loss: 0.3874, Accuracy: 8705/10000 (87.05%)\n",
      "\n",
      "EPOCH: 23\n"
     ]
    },
    {
     "name": "stderr",
     "output_type": "stream",
     "text": [
      "Loss=0.3948969542980194 Batch_id=97 Accuracy=87.37: 100%|██████████| 98/98 [00:28<00:00,  3.41it/s] \n"
     ]
    },
    {
     "name": "stdout",
     "output_type": "stream",
     "text": [
      "\n",
      "Test set: Average loss: 0.3632, Accuracy: 8801/10000 (88.01%)\n",
      "\n",
      "EPOCH: 24\n"
     ]
    },
    {
     "name": "stderr",
     "output_type": "stream",
     "text": [
      "Loss=0.35955989360809326 Batch_id=97 Accuracy=88.09: 100%|██████████| 98/98 [00:29<00:00,  3.33it/s]\n"
     ]
    },
    {
     "name": "stdout",
     "output_type": "stream",
     "text": [
      "\n",
      "Test set: Average loss: 0.3628, Accuracy: 8805/10000 (88.05%)\n",
      "\n"
     ]
    }
   ],
   "source": [
    "optimizer_copy = optim.Adam(model_copy.parameters(), lr=LRMIN)  # Set initial LR to 0.01\n",
    "scheduler = OneCycleLR(optimizer_copy, max_lr=LRMAX, total_steps=25, epochs=5, steps_per_epoch=len(train_loader), pct_start=0.3, anneal_strategy='linear', div_factor=10.0, three_phase=False, final_div_factor=1e4, base_momentum=0.85, max_momentum=0.95)\n",
    "\n",
    "EPOCHS = 25\n",
    "for epoch in range(EPOCHS):\n",
    "    print(\"EPOCH:\", epoch)\n",
    "    utils.train(model_copy, device, train_loader, optimizer_copy, epoch)\n",
    "    utils.test(model_copy, device, test_loader)\n",
    "    scheduler.step()"
   ]
  },
  {
   "cell_type": "markdown",
   "id": "95695d3a-4b83-466b-9812-2f8cad7742b0",
   "metadata": {},
   "source": [
    "# Target"
   ]
  },
  {
   "cell_type": "markdown",
   "id": "fc21e184-0175-402d-8aeb-48efe812d238",
   "metadata": {},
   "source": [
    "1. Write a Architecture like\n",
    "\t1. PrepLayer - Conv 3x3 s1, p1) >> BN >> RELU [64k]\n",
    "    \n",
    "\t2. Layer1 -\n",
    "\t\t1. X = Conv 3x3 (s1, p1) >> MaxPool2D >> BN >> RELU [128k]\n",
    "\t\t2. R1 = ResBlock( (Conv-BN-ReLU-Conv-BN-ReLU))(X) [128k]\n",
    "\t\t3. Add(X, R1)\n",
    "     \n",
    "\t3. Layer 2 -\n",
    "\t\t1. Conv 3x3 [256k]\n",
    "\t\t2. MaxPooling2D\n",
    "\t\t3. BN\n",
    "\t\t4. ReLU\n",
    "     \n",
    "\t4. Layer 3 \n",
    "\t\t1. X = Conv 3x3 (s1, p1) >> MaxPool2D >> BN >> RELU [512k]\n",
    "\t\t2. R2 = ResBlock( (Conv-BN-ReLU-Conv-BN-ReLU))(X) [512k]\n",
    "\t\t3. Add(X, R2)\n",
    "     \n",
    "\t5. MaxPooling with Kernel Size 4\n",
    "    \n",
    "\t6. FC Layer\n",
    "    \n",
    "\t7. SoftMax\n",
    "2. Uses One Cycle Policy such that:\n",
    "\t1. Total Epochs = 24\n",
    "\t2. Max at Epoch = 5\n",
    "\t3. LRMIN = FIND\n",
    "\t4. LRMAX = FIND\n",
    "\t5. NO Annihilation\n",
    "\n",
    "3. Uses this transform -RandomCrop 32, 32 (after padding of 4) >> FlipLR >> Followed by CutOut(8, 8)\n",
    "4. Batch size = 512\n",
    "5. Use ADAM and CrossEntropyLoss\n",
    "6. Target Accuracy: 90%\n",
    "7. NO score if your code is not modular. Your collab must be importing your GitHub package, and then just running the model. \n",
    "\tI should be able to find the custom_resnet.py model in your MASTER GitHub repo that you'd be training. repo that you'd be training. yLoss\n",
    "Target Accuracy: 90%"
   ]
  },
  {
   "cell_type": "markdown",
   "id": "c5133c22-ca87-4da9-b0e2-ef36425acca8",
   "metadata": {},
   "source": [
    "# Result"
   ]
  },
  {
   "cell_type": "markdown",
   "id": "766f6468-0e1c-403e-a50b-9fc18fe74dca",
   "metadata": {},
   "source": [
    "1. Parameters: 6,614,080\n",
    "\n",
    "2. Best Train Accuracy: 88.09% at 24th epoch\n",
    "   \n",
    "3. Best Test Accuracy: 88.05 at 24th epochh)"
   ]
  },
  {
   "cell_type": "markdown",
   "id": "e2886c21-540a-46b2-8e47-8342ce5e5537",
   "metadata": {},
   "source": [
    "# Analysis"
   ]
  },
  {
   "cell_type": "markdown",
   "id": "adca9fe5-3da6-45be-8c12-7d9e6600d6c7",
   "metadata": {},
   "source": [
    "1. We have implemented our model like ResNet architecture\n",
    "\n",
    "2. We implemented Adam optimizer and CrossEntropyLoss and got higher and faster accuracy according to our model architecture and problem statment\n",
    "\n",
    "3. Used albumentation transformation library of RandomCrop 32, 32 (after padding of 4) >> FlipLR >> Followed by CutOut(8, 8)\n",
    "\n",
    "4. If we train our model for higher epoch then we can get slighlty more accuracy"
   ]
  },
  {
   "cell_type": "code",
   "execution_count": null,
   "id": "d63d17fb-179b-415f-9943-babc03f740ed",
   "metadata": {},
   "outputs": [],
   "source": []
  }
 ],
 "metadata": {
  "kernelspec": {
   "display_name": "Python 3 (ipykernel)",
   "language": "python",
   "name": "python3"
  },
  "language_info": {
   "codemirror_mode": {
    "name": "ipython",
    "version": 3
   },
   "file_extension": ".py",
   "mimetype": "text/x-python",
   "name": "python",
   "nbconvert_exporter": "python",
   "pygments_lexer": "ipython3",
   "version": "3.11.7"
  }
 },
 "nbformat": 4,
 "nbformat_minor": 5
}
