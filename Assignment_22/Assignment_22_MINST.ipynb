{
 "cells": [
  {
   "cell_type": "markdown",
   "id": "c4c09dba-1485-498a-9cf4-7266d17c3498",
   "metadata": {},
   "source": [
    "## Importing Libraries"
   ]
  },
  {
   "cell_type": "code",
   "execution_count": 1,
   "id": "2f25d4fb-c459-4e2e-a327-6857f7396581",
   "metadata": {},
   "outputs": [],
   "source": [
    "import torch                                                                    \n",
    "import torchvision                                                              \n",
    "import torchvision.transforms as transforms    \n",
    "import numpy as np\n",
    "import random"
   ]
  },
  {
   "cell_type": "markdown",
   "id": "4a00cd1e-c46a-418d-90d5-868236034ddc",
   "metadata": {},
   "source": [
    "## Checking if GPU is available or not"
   ]
  },
  {
   "cell_type": "code",
   "execution_count": 2,
   "id": "ddd0f927-6119-4420-ac96-01e3b862e870",
   "metadata": {},
   "outputs": [
    {
     "data": {
      "text/plain": [
       "True"
      ]
     },
     "execution_count": 2,
     "metadata": {},
     "output_type": "execute_result"
    }
   ],
   "source": [
    "torch.cuda.is_available()"
   ]
  },
  {
   "cell_type": "markdown",
   "id": "42d62e6b-710f-4247-ade5-d90e3df58b75",
   "metadata": {},
   "source": [
    "## Loading Datasets"
   ]
  },
  {
   "cell_type": "code",
   "execution_count": 3,
   "id": "a87a3442-9596-4a3f-8c2e-091b39005668",
   "metadata": {},
   "outputs": [
    {
     "name": "stdout",
     "output_type": "stream",
     "text": [
      "Downloading http://yann.lecun.com/exdb/mnist/train-images-idx3-ubyte.gz\n",
      "Failed to download (trying next):\n",
      "HTTP Error 403: Forbidden\n",
      "\n",
      "Downloading https://ossci-datasets.s3.amazonaws.com/mnist/train-images-idx3-ubyte.gz\n",
      "Downloading https://ossci-datasets.s3.amazonaws.com/mnist/train-images-idx3-ubyte.gz to ./data_MNIST\\MNIST\\raw\\train-images-idx3-ubyte.gz\n"
     ]
    },
    {
     "name": "stderr",
     "output_type": "stream",
     "text": [
      "100%|██████████| 9912422/9912422 [00:48<00:00, 202898.69it/s]\n"
     ]
    },
    {
     "name": "stdout",
     "output_type": "stream",
     "text": [
      "Extracting ./data_MNIST\\MNIST\\raw\\train-images-idx3-ubyte.gz to ./data_MNIST\\MNIST\\raw\n",
      "\n",
      "Downloading http://yann.lecun.com/exdb/mnist/train-labels-idx1-ubyte.gz\n",
      "Failed to download (trying next):\n",
      "HTTP Error 403: Forbidden\n",
      "\n",
      "Downloading https://ossci-datasets.s3.amazonaws.com/mnist/train-labels-idx1-ubyte.gz\n",
      "Downloading https://ossci-datasets.s3.amazonaws.com/mnist/train-labels-idx1-ubyte.gz to ./data_MNIST\\MNIST\\raw\\train-labels-idx1-ubyte.gz\n"
     ]
    },
    {
     "name": "stderr",
     "output_type": "stream",
     "text": [
      "100%|██████████| 28881/28881 [00:00<00:00, 137202.52it/s]\n"
     ]
    },
    {
     "name": "stdout",
     "output_type": "stream",
     "text": [
      "Extracting ./data_MNIST\\MNIST\\raw\\train-labels-idx1-ubyte.gz to ./data_MNIST\\MNIST\\raw\n",
      "\n",
      "Downloading http://yann.lecun.com/exdb/mnist/t10k-images-idx3-ubyte.gz\n",
      "Failed to download (trying next):\n",
      "HTTP Error 403: Forbidden\n",
      "\n",
      "Downloading https://ossci-datasets.s3.amazonaws.com/mnist/t10k-images-idx3-ubyte.gz\n",
      "Downloading https://ossci-datasets.s3.amazonaws.com/mnist/t10k-images-idx3-ubyte.gz to ./data_MNIST\\MNIST\\raw\\t10k-images-idx3-ubyte.gz\n"
     ]
    },
    {
     "name": "stderr",
     "output_type": "stream",
     "text": [
      "100%|██████████| 1648877/1648877 [00:02<00:00, 732471.53it/s]\n"
     ]
    },
    {
     "name": "stdout",
     "output_type": "stream",
     "text": [
      "Extracting ./data_MNIST\\MNIST\\raw\\t10k-images-idx3-ubyte.gz to ./data_MNIST\\MNIST\\raw\n",
      "\n",
      "Downloading http://yann.lecun.com/exdb/mnist/t10k-labels-idx1-ubyte.gz\n",
      "Failed to download (trying next):\n",
      "HTTP Error 403: Forbidden\n",
      "\n",
      "Downloading https://ossci-datasets.s3.amazonaws.com/mnist/t10k-labels-idx1-ubyte.gz\n",
      "Downloading https://ossci-datasets.s3.amazonaws.com/mnist/t10k-labels-idx1-ubyte.gz to ./data_MNIST\\MNIST\\raw\\t10k-labels-idx1-ubyte.gz\n"
     ]
    },
    {
     "name": "stderr",
     "output_type": "stream",
     "text": [
      "100%|██████████| 4542/4542 [00:00<?, ?it/s]"
     ]
    },
    {
     "name": "stdout",
     "output_type": "stream",
     "text": [
      "Extracting ./data_MNIST\\MNIST\\raw\\t10k-labels-idx1-ubyte.gz to ./data_MNIST\\MNIST\\raw\n",
      "\n"
     ]
    },
    {
     "name": "stderr",
     "output_type": "stream",
     "text": [
      "\n"
     ]
    }
   ],
   "source": [
    "from torchvision import datasets                                                # Access to benchmarking datasets\n",
    "\n",
    "train_set = datasets.MNIST('./data_MNIST', train=True, download=True,                 # Downloading the training dataset in ./data folder\n",
    "                    transform=transforms.Compose([                              # and transforming the images to tensors and normalizing with\n",
    "                        transforms.ToTensor(),                                  # mean and std of the entire dataset\n",
    "                        transforms.Normalize((0.1307,), (0.3081,))\n",
    "                    ]))\n",
    "\n",
    "test_set = datasets.MNIST('./data_MNIST', train=False, download=True,                 # Downloading the test dataset in ./data folder \n",
    "                    transform=transforms.Compose([                              # and transforming the images to tensors and normalizing with\n",
    "                        transforms.ToTensor(),                                  # mean and std of the entire dataset\n",
    "                        transforms.Normalize((0.1307,), (0.3081,))\n",
    "                    ]))"
   ]
  },
  {
   "cell_type": "code",
   "execution_count": 4,
   "id": "a5dda33f-c426-40d9-850a-a746c31d9f87",
   "metadata": {},
   "outputs": [],
   "source": [
    "def num_to_categorical(y, num_classes):\n",
    "    \"\"\" 1-hot encodes a tensor \"\"\"\n",
    "    return np.eye(num_classes, dtype='uint8')[y]\n",
    "\n",
    "def categorical_to_num(y):\n",
    "  \"\"\" Decodes a 1-hot encoding \"\"\"\n",
    "  return np.argmax(y)"
   ]
  },
  {
   "cell_type": "code",
   "execution_count": 5,
   "id": "c46658ac-4f70-48a1-96f9-267554bb799d",
   "metadata": {},
   "outputs": [],
   "source": [
    "# Dataset is there to be able to interact with DataLoader\n",
    "from torch.utils.data import Dataset                                            \n",
    "\n",
    "class mnist_data(Dataset):\n",
    "  '''\n",
    "  mnist_data class to create an iteratable on our custom mnist dataset:\n",
    "  where data = (image and number label as one-hot-encoding) and labels = (image)\n",
    "\n",
    "  Attributes:\n",
    "    mnist: mnist data object\n",
    "  Methods:\n",
    "    len: returns length of the dataset \n",
    "    getitem: custom getitem method returns data and labels\n",
    "  '''\n",
    "\n",
    "  def __init__(self, d):\n",
    "    self.mnist = d                                                              # Initialize with mnist data object\n",
    "    \n",
    "  def __getitem__(self, index):\n",
    "                                                     \n",
    "    image, label = self.mnist[index]   \n",
    "    number_encoding = num_to_categorical(label, 10)                             # 1-hot encoding of number \n",
    "    number_encoding = torch.tensor(number_encoding)\n",
    "\n",
    "    return (image.flatten(), number_encoding), image                                     # (input), (output) to network      \n",
    "\n",
    "  def __len__(self):                                                            # Return the length of the dataset\n",
    "    return len(self.mnist)"
   ]
  },
  {
   "cell_type": "code",
   "execution_count": 6,
   "id": "50b91e60-048c-4cb3-a574-a9f24d7f4cdc",
   "metadata": {},
   "outputs": [],
   "source": [
    "train_set_custom = mnist_data(train_set)                                        # custom train_set from mnist_data class\n",
    "test_set_custom = mnist_data(test_set)       "
   ]
  },
  {
   "cell_type": "code",
   "execution_count": 7,
   "id": "a74fa755-ab38-43a9-97a8-8331ea3daedf",
   "metadata": {},
   "outputs": [],
   "source": [
    "use_cuda = torch.cuda.is_available()                                            # use gpu if available\n",
    "device = torch.device(\"cuda\" if use_cuda else \"cpu\")                            # assigning gpu to variable device\n",
    "\n",
    "# If you load your samples in the Dataset on CPU and would like to push it during training to the GPU, \n",
    "# you can speed up the host to device transfer by enabling pin_memory.\n",
    "# num_workers attribute tells the data loader instance how many sub-processes to use for data loading\n",
    "kwargs = {'num_workers': 1, 'pin_memory': True} if use_cuda else {}             \n",
    "batch_size = 100                                                                # set size of batch                                    \n",
    "\n",
    "train_loader = torch.utils.data.DataLoader(                                     # For iterating through our dataset in batches      \n",
    "    train_set_custom,\n",
    "    batch_size = batch_size,  \n",
    "    shuffle=True,                                                               # Shuffle the data points randomly\n",
    "    **kwargs\n",
    ")\n",
    "\n",
    "test_loader = torch.utils.data.DataLoader(\n",
    "    test_set_custom,\n",
    "    batch_size = batch_size,\n",
    "    shuffle=True, \n",
    "    **kwargs\n",
    ")"
   ]
  },
  {
   "cell_type": "markdown",
   "id": "16e626bb-f512-4bb1-9503-d1c09dd33b8d",
   "metadata": {},
   "source": [
    "## VAE Network Architecture"
   ]
  },
  {
   "cell_type": "code",
   "execution_count": 8,
   "id": "fbeded11-055e-47a0-a5f4-c44cff55041f",
   "metadata": {},
   "outputs": [],
   "source": [
    "import torch; torch.manual_seed(0)\n",
    "import torch.nn as nn\n",
    "import torch.nn.functional as F\n",
    "import torch.utils\n",
    "import torch.distributions\n",
    "import matplotlib.pyplot as plt\n",
    "import torch.optim as optim"
   ]
  },
  {
   "cell_type": "code",
   "execution_count": 9,
   "id": "bf190314-63c4-4e89-8732-fc829d5198ac",
   "metadata": {},
   "outputs": [],
   "source": [
    "class VariationalEncoder(nn.Module):\n",
    "    def __init__(self, latent_dims):\n",
    "        super(VariationalEncoder, self).__init__()\n",
    "        self.linear1 = nn.Linear(784, 512)\n",
    "        self.linear2 = nn.Linear(512, latent_dims)\n",
    "        self.linear3 = nn.Linear(512, latent_dims)\n",
    "\n",
    "        self.N = torch.distributions.Normal(0, 1)\n",
    "        self.N.loc = self.N.loc.cuda() # hack to get sampling on the GPU\n",
    "        self.N.scale = self.N.scale.cuda()\n",
    "        self.kl = 0\n",
    "\n",
    "    def forward(self, x, num):\n",
    "        x = F.relu(self.linear1(x))\n",
    "        mu =  self.linear2(x)\n",
    "        sigma = torch.exp(self.linear3(x))\n",
    "        z = mu + sigma*self.N.sample(mu.shape)\n",
    "\n",
    "        ## Adding the one-hot encoding of the number \n",
    "        z = z+num                                    \n",
    "\n",
    "        self.kl = (sigma**2 + mu**2 - torch.log(sigma) - 1/2).sum()\n",
    "        return z"
   ]
  },
  {
   "cell_type": "code",
   "execution_count": 10,
   "id": "c354ebe7-e4f2-405f-81cd-321112962056",
   "metadata": {},
   "outputs": [],
   "source": [
    "class Decoder(nn.Module):\n",
    "    def __init__(self, latent_dims):\n",
    "        super(Decoder, self).__init__()\n",
    "        self.linear1 = nn.Linear(latent_dims, 512)\n",
    "        self.linear2 = nn.Linear(512, 784)\n",
    "\n",
    "    def forward(self, z):\n",
    "        z = F.relu(self.linear1(z))\n",
    "        z = torch.sigmoid(self.linear2(z))\n",
    "        return z.reshape((-1, 1, 28, 28))"
   ]
  },
  {
   "cell_type": "code",
   "execution_count": 11,
   "id": "d4d5cf92-e71b-427f-8629-7458c67941c0",
   "metadata": {},
   "outputs": [],
   "source": [
    "class VariationalAutoencoder(nn.Module):\n",
    "    def __init__(self, latent_dims):\n",
    "        super(VariationalAutoencoder, self).__init__()\n",
    "        self.encoder = VariationalEncoder(latent_dims)\n",
    "        self.decoder = Decoder(latent_dims)\n",
    "\n",
    "    def forward(self, x1, x2):\n",
    "        z = self.encoder(x1, x2)\n",
    "        return self.decoder(z)"
   ]
  },
  {
   "cell_type": "code",
   "execution_count": 12,
   "id": "a144c368-8f6b-4847-a2d9-0e0cff245a6b",
   "metadata": {},
   "outputs": [],
   "source": [
    "latent_dims = 10\n",
    "device = 'cuda' if torch.cuda.is_available() else 'cpu'\n",
    "\n",
    "model = VariationalAutoencoder(latent_dims).to(device) "
   ]
  },
  {
   "cell_type": "code",
   "execution_count": 13,
   "id": "755d3e51-038b-40ec-b060-a022e24ec692",
   "metadata": {},
   "outputs": [
    {
     "data": {
      "text/plain": [
       "VariationalAutoencoder(\n",
       "  (encoder): VariationalEncoder(\n",
       "    (linear1): Linear(in_features=784, out_features=512, bias=True)\n",
       "    (linear2): Linear(in_features=512, out_features=10, bias=True)\n",
       "    (linear3): Linear(in_features=512, out_features=10, bias=True)\n",
       "  )\n",
       "  (decoder): Decoder(\n",
       "    (linear1): Linear(in_features=10, out_features=512, bias=True)\n",
       "    (linear2): Linear(in_features=512, out_features=784, bias=True)\n",
       "  )\n",
       ")"
      ]
     },
     "execution_count": 13,
     "metadata": {},
     "output_type": "execute_result"
    }
   ],
   "source": [
    "model"
   ]
  },
  {
   "cell_type": "code",
   "execution_count": 14,
   "id": "fed5b878-81ec-4e2f-848f-a18bd7240edc",
   "metadata": {},
   "outputs": [
    {
     "ename": "RuntimeError",
     "evalue": "DataLoader worker (pid(s) 26492) exited unexpectedly",
     "output_type": "error",
     "traceback": [
      "\u001b[1;31m---------------------------------------------------------------------------\u001b[0m",
      "\u001b[1;31mEmpty\u001b[0m                                     Traceback (most recent call last)",
      "File \u001b[1;32mD:\\Softwares\\anaconda3\\envs\\pytorch-gpu\\Lib\\site-packages\\torch\\utils\\data\\dataloader.py:1133\u001b[0m, in \u001b[0;36m_MultiProcessingDataLoaderIter._try_get_data\u001b[1;34m(self, timeout)\u001b[0m\n\u001b[0;32m   1132\u001b[0m \u001b[38;5;28;01mtry\u001b[39;00m:\n\u001b[1;32m-> 1133\u001b[0m     data \u001b[38;5;241m=\u001b[39m \u001b[38;5;28mself\u001b[39m\u001b[38;5;241m.\u001b[39m_data_queue\u001b[38;5;241m.\u001b[39mget(timeout\u001b[38;5;241m=\u001b[39mtimeout)\n\u001b[0;32m   1134\u001b[0m     \u001b[38;5;28;01mreturn\u001b[39;00m (\u001b[38;5;28;01mTrue\u001b[39;00m, data)\n",
      "File \u001b[1;32mD:\\Softwares\\anaconda3\\envs\\pytorch-gpu\\Lib\\queue.py:179\u001b[0m, in \u001b[0;36mQueue.get\u001b[1;34m(self, block, timeout)\u001b[0m\n\u001b[0;32m    178\u001b[0m \u001b[38;5;28;01mif\u001b[39;00m remaining \u001b[38;5;241m<\u001b[39m\u001b[38;5;241m=\u001b[39m \u001b[38;5;241m0.0\u001b[39m:\n\u001b[1;32m--> 179\u001b[0m     \u001b[38;5;28;01mraise\u001b[39;00m Empty\n\u001b[0;32m    180\u001b[0m \u001b[38;5;28mself\u001b[39m\u001b[38;5;241m.\u001b[39mnot_empty\u001b[38;5;241m.\u001b[39mwait(remaining)\n",
      "\u001b[1;31mEmpty\u001b[0m: ",
      "\nThe above exception was the direct cause of the following exception:\n",
      "\u001b[1;31mRuntimeError\u001b[0m                              Traceback (most recent call last)",
      "Cell \u001b[1;32mIn[14], line 41\u001b[0m\n\u001b[0;32m     37\u001b[0m         test_losses\u001b[38;5;241m.\u001b[39mappend(test_loss_avg)\n\u001b[0;32m     39\u001b[0m     \u001b[38;5;28;01mreturn\u001b[39;00m model\n\u001b[1;32m---> 41\u001b[0m model \u001b[38;5;241m=\u001b[39m train_vae(model, train_loader, test_loader, \u001b[38;5;241m50\u001b[39m)\n",
      "Cell \u001b[1;32mIn[14], line 9\u001b[0m, in \u001b[0;36mtrain_vae\u001b[1;34m(model, train_data, test_data, epochs)\u001b[0m\n\u001b[0;32m      6\u001b[0m \u001b[38;5;28;01mfor\u001b[39;00m epoch \u001b[38;5;129;01min\u001b[39;00m \u001b[38;5;28mrange\u001b[39m(epochs):\n\u001b[0;32m      8\u001b[0m     model\u001b[38;5;241m.\u001b[39mtrain()\n\u001b[1;32m----> 9\u001b[0m     \u001b[38;5;28;01mfor\u001b[39;00m x, y \u001b[38;5;129;01min\u001b[39;00m train_data:\n\u001b[0;32m     10\u001b[0m         x1, x2 \u001b[38;5;241m=\u001b[39m x\n\u001b[0;32m     11\u001b[0m         x1 \u001b[38;5;241m=\u001b[39m x1\u001b[38;5;241m.\u001b[39mto(device) \u001b[38;5;66;03m# GPU\u001b[39;00m\n",
      "File \u001b[1;32mD:\\Softwares\\anaconda3\\envs\\pytorch-gpu\\Lib\\site-packages\\torch\\utils\\data\\dataloader.py:631\u001b[0m, in \u001b[0;36m_BaseDataLoaderIter.__next__\u001b[1;34m(self)\u001b[0m\n\u001b[0;32m    628\u001b[0m \u001b[38;5;28;01mif\u001b[39;00m \u001b[38;5;28mself\u001b[39m\u001b[38;5;241m.\u001b[39m_sampler_iter \u001b[38;5;129;01mis\u001b[39;00m \u001b[38;5;28;01mNone\u001b[39;00m:\n\u001b[0;32m    629\u001b[0m     \u001b[38;5;66;03m# TODO(https://github.com/pytorch/pytorch/issues/76750)\u001b[39;00m\n\u001b[0;32m    630\u001b[0m     \u001b[38;5;28mself\u001b[39m\u001b[38;5;241m.\u001b[39m_reset()  \u001b[38;5;66;03m# type: ignore[call-arg]\u001b[39;00m\n\u001b[1;32m--> 631\u001b[0m data \u001b[38;5;241m=\u001b[39m \u001b[38;5;28mself\u001b[39m\u001b[38;5;241m.\u001b[39m_next_data()\n\u001b[0;32m    632\u001b[0m \u001b[38;5;28mself\u001b[39m\u001b[38;5;241m.\u001b[39m_num_yielded \u001b[38;5;241m+\u001b[39m\u001b[38;5;241m=\u001b[39m \u001b[38;5;241m1\u001b[39m\n\u001b[0;32m    633\u001b[0m \u001b[38;5;28;01mif\u001b[39;00m \u001b[38;5;28mself\u001b[39m\u001b[38;5;241m.\u001b[39m_dataset_kind \u001b[38;5;241m==\u001b[39m _DatasetKind\u001b[38;5;241m.\u001b[39mIterable \u001b[38;5;129;01mand\u001b[39;00m \\\n\u001b[0;32m    634\u001b[0m         \u001b[38;5;28mself\u001b[39m\u001b[38;5;241m.\u001b[39m_IterableDataset_len_called \u001b[38;5;129;01mis\u001b[39;00m \u001b[38;5;129;01mnot\u001b[39;00m \u001b[38;5;28;01mNone\u001b[39;00m \u001b[38;5;129;01mand\u001b[39;00m \\\n\u001b[0;32m    635\u001b[0m         \u001b[38;5;28mself\u001b[39m\u001b[38;5;241m.\u001b[39m_num_yielded \u001b[38;5;241m>\u001b[39m \u001b[38;5;28mself\u001b[39m\u001b[38;5;241m.\u001b[39m_IterableDataset_len_called:\n",
      "File \u001b[1;32mD:\\Softwares\\anaconda3\\envs\\pytorch-gpu\\Lib\\site-packages\\torch\\utils\\data\\dataloader.py:1329\u001b[0m, in \u001b[0;36m_MultiProcessingDataLoaderIter._next_data\u001b[1;34m(self)\u001b[0m\n\u001b[0;32m   1326\u001b[0m     \u001b[38;5;28;01mreturn\u001b[39;00m \u001b[38;5;28mself\u001b[39m\u001b[38;5;241m.\u001b[39m_process_data(data)\n\u001b[0;32m   1328\u001b[0m \u001b[38;5;28;01massert\u001b[39;00m \u001b[38;5;129;01mnot\u001b[39;00m \u001b[38;5;28mself\u001b[39m\u001b[38;5;241m.\u001b[39m_shutdown \u001b[38;5;129;01mand\u001b[39;00m \u001b[38;5;28mself\u001b[39m\u001b[38;5;241m.\u001b[39m_tasks_outstanding \u001b[38;5;241m>\u001b[39m \u001b[38;5;241m0\u001b[39m\n\u001b[1;32m-> 1329\u001b[0m idx, data \u001b[38;5;241m=\u001b[39m \u001b[38;5;28mself\u001b[39m\u001b[38;5;241m.\u001b[39m_get_data()\n\u001b[0;32m   1330\u001b[0m \u001b[38;5;28mself\u001b[39m\u001b[38;5;241m.\u001b[39m_tasks_outstanding \u001b[38;5;241m-\u001b[39m\u001b[38;5;241m=\u001b[39m \u001b[38;5;241m1\u001b[39m\n\u001b[0;32m   1331\u001b[0m \u001b[38;5;28;01mif\u001b[39;00m \u001b[38;5;28mself\u001b[39m\u001b[38;5;241m.\u001b[39m_dataset_kind \u001b[38;5;241m==\u001b[39m _DatasetKind\u001b[38;5;241m.\u001b[39mIterable:\n\u001b[0;32m   1332\u001b[0m     \u001b[38;5;66;03m# Check for _IterableDatasetStopIteration\u001b[39;00m\n",
      "File \u001b[1;32mD:\\Softwares\\anaconda3\\envs\\pytorch-gpu\\Lib\\site-packages\\torch\\utils\\data\\dataloader.py:1285\u001b[0m, in \u001b[0;36m_MultiProcessingDataLoaderIter._get_data\u001b[1;34m(self)\u001b[0m\n\u001b[0;32m   1283\u001b[0m \u001b[38;5;28;01melif\u001b[39;00m \u001b[38;5;28mself\u001b[39m\u001b[38;5;241m.\u001b[39m_pin_memory:\n\u001b[0;32m   1284\u001b[0m     \u001b[38;5;28;01mwhile\u001b[39;00m \u001b[38;5;28mself\u001b[39m\u001b[38;5;241m.\u001b[39m_pin_memory_thread\u001b[38;5;241m.\u001b[39mis_alive():\n\u001b[1;32m-> 1285\u001b[0m         success, data \u001b[38;5;241m=\u001b[39m \u001b[38;5;28mself\u001b[39m\u001b[38;5;241m.\u001b[39m_try_get_data()\n\u001b[0;32m   1286\u001b[0m         \u001b[38;5;28;01mif\u001b[39;00m success:\n\u001b[0;32m   1287\u001b[0m             \u001b[38;5;28;01mreturn\u001b[39;00m data\n",
      "File \u001b[1;32mD:\\Softwares\\anaconda3\\envs\\pytorch-gpu\\Lib\\site-packages\\torch\\utils\\data\\dataloader.py:1146\u001b[0m, in \u001b[0;36m_MultiProcessingDataLoaderIter._try_get_data\u001b[1;34m(self, timeout)\u001b[0m\n\u001b[0;32m   1144\u001b[0m \u001b[38;5;28;01mif\u001b[39;00m \u001b[38;5;28mlen\u001b[39m(failed_workers) \u001b[38;5;241m>\u001b[39m \u001b[38;5;241m0\u001b[39m:\n\u001b[0;32m   1145\u001b[0m     pids_str \u001b[38;5;241m=\u001b[39m \u001b[38;5;124m'\u001b[39m\u001b[38;5;124m, \u001b[39m\u001b[38;5;124m'\u001b[39m\u001b[38;5;241m.\u001b[39mjoin(\u001b[38;5;28mstr\u001b[39m(w\u001b[38;5;241m.\u001b[39mpid) \u001b[38;5;28;01mfor\u001b[39;00m w \u001b[38;5;129;01min\u001b[39;00m failed_workers)\n\u001b[1;32m-> 1146\u001b[0m     \u001b[38;5;28;01mraise\u001b[39;00m \u001b[38;5;167;01mRuntimeError\u001b[39;00m(\u001b[38;5;124mf\u001b[39m\u001b[38;5;124m'\u001b[39m\u001b[38;5;124mDataLoader worker (pid(s) \u001b[39m\u001b[38;5;132;01m{\u001b[39;00mpids_str\u001b[38;5;132;01m}\u001b[39;00m\u001b[38;5;124m) exited unexpectedly\u001b[39m\u001b[38;5;124m'\u001b[39m) \u001b[38;5;28;01mfrom\u001b[39;00m \u001b[38;5;21;01me\u001b[39;00m\n\u001b[0;32m   1147\u001b[0m \u001b[38;5;28;01mif\u001b[39;00m \u001b[38;5;28misinstance\u001b[39m(e, queue\u001b[38;5;241m.\u001b[39mEmpty):\n\u001b[0;32m   1148\u001b[0m     \u001b[38;5;28;01mreturn\u001b[39;00m (\u001b[38;5;28;01mFalse\u001b[39;00m, \u001b[38;5;28;01mNone\u001b[39;00m)\n",
      "\u001b[1;31mRuntimeError\u001b[0m: DataLoader worker (pid(s) 26492) exited unexpectedly"
     ]
    }
   ],
   "source": [
    "train_losses = []\n",
    "test_losses = []\n",
    "\n",
    "def train_vae(model, train_data, test_data, epochs=20):\n",
    "    opt = torch.optim.Adam(model.parameters())\n",
    "    for epoch in range(epochs):\n",
    "\n",
    "        model.train()\n",
    "        for x, y in train_data:\n",
    "            x1, x2 = x\n",
    "            x1 = x1.to(device) # GPU\n",
    "            x2 = x2.to(device) # GPU\n",
    "            y = y.to(device) # GPU\n",
    "            opt.zero_grad()\n",
    "            x_hat = model(x1, x2)\n",
    "            train_loss = ((y - x_hat)**2).sum() + model.encoder.kl\n",
    "            train_loss.backward()\n",
    "            opt.step()\n",
    "\n",
    "        model.eval()\n",
    "        test_loss_sum = 0 \n",
    "        c = 0\n",
    "        for x, y in test_data:\n",
    "            x1, x2 = x\n",
    "            x1 = x1.to(device) # GPU\n",
    "            x2 = x2.to(device) # GPU\n",
    "            y = y.to(device) # GPU\n",
    "            x_hat = model(x1, x2)\n",
    "            test_loss = ((y - x_hat)**2).sum() + model.encoder.kl\n",
    "            test_loss_sum += test_loss\n",
    "            c += 1\n",
    "\n",
    "        test_loss_avg = test_loss_sum/c\n",
    "        print(f'Epoch {epoch}. Train loss: {train_loss}, Test loss: {test_loss_avg}')\n",
    "\n",
    "        train_losses.append(train_loss)\n",
    "        test_losses.append(test_loss_avg)\n",
    "        \n",
    "    return model\n",
    "\n",
    "model = train_vae(model, train_loader, test_loader, 50)"
   ]
  },
  {
   "cell_type": "code",
   "execution_count": null,
   "id": "3fc0e6b0-6dbf-4430-9235-d0d9c1ba005c",
   "metadata": {},
   "outputs": [],
   "source": [
    "torch.save(model.state_dict(), 'MNIST.pth')"
   ]
  }
 ],
 "metadata": {
  "kernelspec": {
   "display_name": "Python 3 (ipykernel)",
   "language": "python",
   "name": "python3"
  },
  "language_info": {
   "codemirror_mode": {
    "name": "ipython",
    "version": 3
   },
   "file_extension": ".py",
   "mimetype": "text/x-python",
   "name": "python",
   "nbconvert_exporter": "python",
   "pygments_lexer": "ipython3",
   "version": "3.12.4"
  }
 },
 "nbformat": 4,
 "nbformat_minor": 5
}
