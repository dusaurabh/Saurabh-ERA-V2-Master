{
  "nbformat": 4,
  "nbformat_minor": 0,
  "metadata": {
    "colab": {
      "provenance": [],
      "gpuType": "T4"
    },
    "kernelspec": {
      "name": "python3",
      "display_name": "Python 3"
    },
    "language_info": {
      "name": "python"
    },
    "accelerator": "GPU",
    "widgets": {
      "application/vnd.jupyter.widget-state+json": {
        "23ee49715e7d45edbc70b83b287ac95d": {
          "model_module": "@jupyter-widgets/controls",
          "model_name": "HBoxModel",
          "model_module_version": "1.5.0",
          "state": {
            "_dom_classes": [],
            "_model_module": "@jupyter-widgets/controls",
            "_model_module_version": "1.5.0",
            "_model_name": "HBoxModel",
            "_view_count": null,
            "_view_module": "@jupyter-widgets/controls",
            "_view_module_version": "1.5.0",
            "_view_name": "HBoxView",
            "box_style": "",
            "children": [
              "IPY_MODEL_f6995428ba114079ba0b89efbc6262a4",
              "IPY_MODEL_b488f86978164aeab6d648ef7b16405d",
              "IPY_MODEL_caad73a65e6d4550bef03765afdc12d0"
            ],
            "layout": "IPY_MODEL_26326e0ec48045e89cc394c2916c3a32"
          }
        },
        "f6995428ba114079ba0b89efbc6262a4": {
          "model_module": "@jupyter-widgets/controls",
          "model_name": "HTMLModel",
          "model_module_version": "1.5.0",
          "state": {
            "_dom_classes": [],
            "_model_module": "@jupyter-widgets/controls",
            "_model_module_version": "1.5.0",
            "_model_name": "HTMLModel",
            "_view_count": null,
            "_view_module": "@jupyter-widgets/controls",
            "_view_module_version": "1.5.0",
            "_view_name": "HTMLView",
            "description": "",
            "description_tooltip": null,
            "layout": "IPY_MODEL_c50a83b711904079bed371666203981f",
            "placeholder": "​",
            "style": "IPY_MODEL_f7a5eb54d2b040f2a374aa61bc52f6ee",
            "value": "Downloading readme: 100%"
          }
        },
        "b488f86978164aeab6d648ef7b16405d": {
          "model_module": "@jupyter-widgets/controls",
          "model_name": "FloatProgressModel",
          "model_module_version": "1.5.0",
          "state": {
            "_dom_classes": [],
            "_model_module": "@jupyter-widgets/controls",
            "_model_module_version": "1.5.0",
            "_model_name": "FloatProgressModel",
            "_view_count": null,
            "_view_module": "@jupyter-widgets/controls",
            "_view_module_version": "1.5.0",
            "_view_name": "ProgressView",
            "bar_style": "success",
            "description": "",
            "description_tooltip": null,
            "layout": "IPY_MODEL_1a1a10b015bd4708a19c59b8ad9b581f",
            "max": 28064,
            "min": 0,
            "orientation": "horizontal",
            "style": "IPY_MODEL_88fc4bdc3f3342d1bfd0052ee3ef4801",
            "value": 28064
          }
        },
        "caad73a65e6d4550bef03765afdc12d0": {
          "model_module": "@jupyter-widgets/controls",
          "model_name": "HTMLModel",
          "model_module_version": "1.5.0",
          "state": {
            "_dom_classes": [],
            "_model_module": "@jupyter-widgets/controls",
            "_model_module_version": "1.5.0",
            "_model_name": "HTMLModel",
            "_view_count": null,
            "_view_module": "@jupyter-widgets/controls",
            "_view_module_version": "1.5.0",
            "_view_name": "HTMLView",
            "description": "",
            "description_tooltip": null,
            "layout": "IPY_MODEL_763735443aa446d49b78a14be41e3226",
            "placeholder": "​",
            "style": "IPY_MODEL_eac60e66847d4396ae407747f6a4c54a",
            "value": " 28.1k/28.1k [00:00&lt;00:00, 1.92MB/s]"
          }
        },
        "26326e0ec48045e89cc394c2916c3a32": {
          "model_module": "@jupyter-widgets/base",
          "model_name": "LayoutModel",
          "model_module_version": "1.2.0",
          "state": {
            "_model_module": "@jupyter-widgets/base",
            "_model_module_version": "1.2.0",
            "_model_name": "LayoutModel",
            "_view_count": null,
            "_view_module": "@jupyter-widgets/base",
            "_view_module_version": "1.2.0",
            "_view_name": "LayoutView",
            "align_content": null,
            "align_items": null,
            "align_self": null,
            "border": null,
            "bottom": null,
            "display": null,
            "flex": null,
            "flex_flow": null,
            "grid_area": null,
            "grid_auto_columns": null,
            "grid_auto_flow": null,
            "grid_auto_rows": null,
            "grid_column": null,
            "grid_gap": null,
            "grid_row": null,
            "grid_template_areas": null,
            "grid_template_columns": null,
            "grid_template_rows": null,
            "height": null,
            "justify_content": null,
            "justify_items": null,
            "left": null,
            "margin": null,
            "max_height": null,
            "max_width": null,
            "min_height": null,
            "min_width": null,
            "object_fit": null,
            "object_position": null,
            "order": null,
            "overflow": null,
            "overflow_x": null,
            "overflow_y": null,
            "padding": null,
            "right": null,
            "top": null,
            "visibility": null,
            "width": null
          }
        },
        "c50a83b711904079bed371666203981f": {
          "model_module": "@jupyter-widgets/base",
          "model_name": "LayoutModel",
          "model_module_version": "1.2.0",
          "state": {
            "_model_module": "@jupyter-widgets/base",
            "_model_module_version": "1.2.0",
            "_model_name": "LayoutModel",
            "_view_count": null,
            "_view_module": "@jupyter-widgets/base",
            "_view_module_version": "1.2.0",
            "_view_name": "LayoutView",
            "align_content": null,
            "align_items": null,
            "align_self": null,
            "border": null,
            "bottom": null,
            "display": null,
            "flex": null,
            "flex_flow": null,
            "grid_area": null,
            "grid_auto_columns": null,
            "grid_auto_flow": null,
            "grid_auto_rows": null,
            "grid_column": null,
            "grid_gap": null,
            "grid_row": null,
            "grid_template_areas": null,
            "grid_template_columns": null,
            "grid_template_rows": null,
            "height": null,
            "justify_content": null,
            "justify_items": null,
            "left": null,
            "margin": null,
            "max_height": null,
            "max_width": null,
            "min_height": null,
            "min_width": null,
            "object_fit": null,
            "object_position": null,
            "order": null,
            "overflow": null,
            "overflow_x": null,
            "overflow_y": null,
            "padding": null,
            "right": null,
            "top": null,
            "visibility": null,
            "width": null
          }
        },
        "f7a5eb54d2b040f2a374aa61bc52f6ee": {
          "model_module": "@jupyter-widgets/controls",
          "model_name": "DescriptionStyleModel",
          "model_module_version": "1.5.0",
          "state": {
            "_model_module": "@jupyter-widgets/controls",
            "_model_module_version": "1.5.0",
            "_model_name": "DescriptionStyleModel",
            "_view_count": null,
            "_view_module": "@jupyter-widgets/base",
            "_view_module_version": "1.2.0",
            "_view_name": "StyleView",
            "description_width": ""
          }
        },
        "1a1a10b015bd4708a19c59b8ad9b581f": {
          "model_module": "@jupyter-widgets/base",
          "model_name": "LayoutModel",
          "model_module_version": "1.2.0",
          "state": {
            "_model_module": "@jupyter-widgets/base",
            "_model_module_version": "1.2.0",
            "_model_name": "LayoutModel",
            "_view_count": null,
            "_view_module": "@jupyter-widgets/base",
            "_view_module_version": "1.2.0",
            "_view_name": "LayoutView",
            "align_content": null,
            "align_items": null,
            "align_self": null,
            "border": null,
            "bottom": null,
            "display": null,
            "flex": null,
            "flex_flow": null,
            "grid_area": null,
            "grid_auto_columns": null,
            "grid_auto_flow": null,
            "grid_auto_rows": null,
            "grid_column": null,
            "grid_gap": null,
            "grid_row": null,
            "grid_template_areas": null,
            "grid_template_columns": null,
            "grid_template_rows": null,
            "height": null,
            "justify_content": null,
            "justify_items": null,
            "left": null,
            "margin": null,
            "max_height": null,
            "max_width": null,
            "min_height": null,
            "min_width": null,
            "object_fit": null,
            "object_position": null,
            "order": null,
            "overflow": null,
            "overflow_x": null,
            "overflow_y": null,
            "padding": null,
            "right": null,
            "top": null,
            "visibility": null,
            "width": null
          }
        },
        "88fc4bdc3f3342d1bfd0052ee3ef4801": {
          "model_module": "@jupyter-widgets/controls",
          "model_name": "ProgressStyleModel",
          "model_module_version": "1.5.0",
          "state": {
            "_model_module": "@jupyter-widgets/controls",
            "_model_module_version": "1.5.0",
            "_model_name": "ProgressStyleModel",
            "_view_count": null,
            "_view_module": "@jupyter-widgets/base",
            "_view_module_version": "1.2.0",
            "_view_name": "StyleView",
            "bar_color": null,
            "description_width": ""
          }
        },
        "763735443aa446d49b78a14be41e3226": {
          "model_module": "@jupyter-widgets/base",
          "model_name": "LayoutModel",
          "model_module_version": "1.2.0",
          "state": {
            "_model_module": "@jupyter-widgets/base",
            "_model_module_version": "1.2.0",
            "_model_name": "LayoutModel",
            "_view_count": null,
            "_view_module": "@jupyter-widgets/base",
            "_view_module_version": "1.2.0",
            "_view_name": "LayoutView",
            "align_content": null,
            "align_items": null,
            "align_self": null,
            "border": null,
            "bottom": null,
            "display": null,
            "flex": null,
            "flex_flow": null,
            "grid_area": null,
            "grid_auto_columns": null,
            "grid_auto_flow": null,
            "grid_auto_rows": null,
            "grid_column": null,
            "grid_gap": null,
            "grid_row": null,
            "grid_template_areas": null,
            "grid_template_columns": null,
            "grid_template_rows": null,
            "height": null,
            "justify_content": null,
            "justify_items": null,
            "left": null,
            "margin": null,
            "max_height": null,
            "max_width": null,
            "min_height": null,
            "min_width": null,
            "object_fit": null,
            "object_position": null,
            "order": null,
            "overflow": null,
            "overflow_x": null,
            "overflow_y": null,
            "padding": null,
            "right": null,
            "top": null,
            "visibility": null,
            "width": null
          }
        },
        "eac60e66847d4396ae407747f6a4c54a": {
          "model_module": "@jupyter-widgets/controls",
          "model_name": "DescriptionStyleModel",
          "model_module_version": "1.5.0",
          "state": {
            "_model_module": "@jupyter-widgets/controls",
            "_model_module_version": "1.5.0",
            "_model_name": "DescriptionStyleModel",
            "_view_count": null,
            "_view_module": "@jupyter-widgets/base",
            "_view_module_version": "1.2.0",
            "_view_name": "StyleView",
            "description_width": ""
          }
        },
        "0539ec7e85f44a31912043b832547c6f": {
          "model_module": "@jupyter-widgets/controls",
          "model_name": "HBoxModel",
          "model_module_version": "1.5.0",
          "state": {
            "_dom_classes": [],
            "_model_module": "@jupyter-widgets/controls",
            "_model_module_version": "1.5.0",
            "_model_name": "HBoxModel",
            "_view_count": null,
            "_view_module": "@jupyter-widgets/controls",
            "_view_module_version": "1.5.0",
            "_view_name": "HBoxView",
            "box_style": "",
            "children": [
              "IPY_MODEL_a3c6219c43f14ca2ae3f3c6cdab97f08",
              "IPY_MODEL_8b8e18be34244c708d40829ce55f00ed",
              "IPY_MODEL_bf22acaba31e416fbbc719a2be9123ac"
            ],
            "layout": "IPY_MODEL_43549a3d8bff433d8348a1014f1fd7d9"
          }
        },
        "a3c6219c43f14ca2ae3f3c6cdab97f08": {
          "model_module": "@jupyter-widgets/controls",
          "model_name": "HTMLModel",
          "model_module_version": "1.5.0",
          "state": {
            "_dom_classes": [],
            "_model_module": "@jupyter-widgets/controls",
            "_model_module_version": "1.5.0",
            "_model_name": "HTMLModel",
            "_view_count": null,
            "_view_module": "@jupyter-widgets/controls",
            "_view_module_version": "1.5.0",
            "_view_name": "HTMLView",
            "description": "",
            "description_tooltip": null,
            "layout": "IPY_MODEL_b1737dc618ca4d3cb025d4db27ebc77e",
            "placeholder": "​",
            "style": "IPY_MODEL_1cac1d30016c454d9d042413f455ca23",
            "value": "Downloading data: 100%"
          }
        },
        "8b8e18be34244c708d40829ce55f00ed": {
          "model_module": "@jupyter-widgets/controls",
          "model_name": "FloatProgressModel",
          "model_module_version": "1.5.0",
          "state": {
            "_dom_classes": [],
            "_model_module": "@jupyter-widgets/controls",
            "_model_module_version": "1.5.0",
            "_model_name": "FloatProgressModel",
            "_view_count": null,
            "_view_module": "@jupyter-widgets/controls",
            "_view_module_version": "1.5.0",
            "_view_name": "ProgressView",
            "bar_style": "success",
            "description": "",
            "description_tooltip": null,
            "layout": "IPY_MODEL_8482898a4007477188e952280deb7ab9",
            "max": 5726189,
            "min": 0,
            "orientation": "horizontal",
            "style": "IPY_MODEL_bcdc0aaef81c47b59d7cd9e47daee901",
            "value": 5726189
          }
        },
        "bf22acaba31e416fbbc719a2be9123ac": {
          "model_module": "@jupyter-widgets/controls",
          "model_name": "HTMLModel",
          "model_module_version": "1.5.0",
          "state": {
            "_dom_classes": [],
            "_model_module": "@jupyter-widgets/controls",
            "_model_module_version": "1.5.0",
            "_model_name": "HTMLModel",
            "_view_count": null,
            "_view_module": "@jupyter-widgets/controls",
            "_view_module_version": "1.5.0",
            "_view_name": "HTMLView",
            "description": "",
            "description_tooltip": null,
            "layout": "IPY_MODEL_ab3a286422a8460abb05baf00904c68e",
            "placeholder": "​",
            "style": "IPY_MODEL_704dd0643d494e60abbbc6f82f573a76",
            "value": " 5.73M/5.73M [00:01&lt;00:00, 4.91MB/s]"
          }
        },
        "43549a3d8bff433d8348a1014f1fd7d9": {
          "model_module": "@jupyter-widgets/base",
          "model_name": "LayoutModel",
          "model_module_version": "1.2.0",
          "state": {
            "_model_module": "@jupyter-widgets/base",
            "_model_module_version": "1.2.0",
            "_model_name": "LayoutModel",
            "_view_count": null,
            "_view_module": "@jupyter-widgets/base",
            "_view_module_version": "1.2.0",
            "_view_name": "LayoutView",
            "align_content": null,
            "align_items": null,
            "align_self": null,
            "border": null,
            "bottom": null,
            "display": null,
            "flex": null,
            "flex_flow": null,
            "grid_area": null,
            "grid_auto_columns": null,
            "grid_auto_flow": null,
            "grid_auto_rows": null,
            "grid_column": null,
            "grid_gap": null,
            "grid_row": null,
            "grid_template_areas": null,
            "grid_template_columns": null,
            "grid_template_rows": null,
            "height": null,
            "justify_content": null,
            "justify_items": null,
            "left": null,
            "margin": null,
            "max_height": null,
            "max_width": null,
            "min_height": null,
            "min_width": null,
            "object_fit": null,
            "object_position": null,
            "order": null,
            "overflow": null,
            "overflow_x": null,
            "overflow_y": null,
            "padding": null,
            "right": null,
            "top": null,
            "visibility": null,
            "width": null
          }
        },
        "b1737dc618ca4d3cb025d4db27ebc77e": {
          "model_module": "@jupyter-widgets/base",
          "model_name": "LayoutModel",
          "model_module_version": "1.2.0",
          "state": {
            "_model_module": "@jupyter-widgets/base",
            "_model_module_version": "1.2.0",
            "_model_name": "LayoutModel",
            "_view_count": null,
            "_view_module": "@jupyter-widgets/base",
            "_view_module_version": "1.2.0",
            "_view_name": "LayoutView",
            "align_content": null,
            "align_items": null,
            "align_self": null,
            "border": null,
            "bottom": null,
            "display": null,
            "flex": null,
            "flex_flow": null,
            "grid_area": null,
            "grid_auto_columns": null,
            "grid_auto_flow": null,
            "grid_auto_rows": null,
            "grid_column": null,
            "grid_gap": null,
            "grid_row": null,
            "grid_template_areas": null,
            "grid_template_columns": null,
            "grid_template_rows": null,
            "height": null,
            "justify_content": null,
            "justify_items": null,
            "left": null,
            "margin": null,
            "max_height": null,
            "max_width": null,
            "min_height": null,
            "min_width": null,
            "object_fit": null,
            "object_position": null,
            "order": null,
            "overflow": null,
            "overflow_x": null,
            "overflow_y": null,
            "padding": null,
            "right": null,
            "top": null,
            "visibility": null,
            "width": null
          }
        },
        "1cac1d30016c454d9d042413f455ca23": {
          "model_module": "@jupyter-widgets/controls",
          "model_name": "DescriptionStyleModel",
          "model_module_version": "1.5.0",
          "state": {
            "_model_module": "@jupyter-widgets/controls",
            "_model_module_version": "1.5.0",
            "_model_name": "DescriptionStyleModel",
            "_view_count": null,
            "_view_module": "@jupyter-widgets/base",
            "_view_module_version": "1.2.0",
            "_view_name": "StyleView",
            "description_width": ""
          }
        },
        "8482898a4007477188e952280deb7ab9": {
          "model_module": "@jupyter-widgets/base",
          "model_name": "LayoutModel",
          "model_module_version": "1.2.0",
          "state": {
            "_model_module": "@jupyter-widgets/base",
            "_model_module_version": "1.2.0",
            "_model_name": "LayoutModel",
            "_view_count": null,
            "_view_module": "@jupyter-widgets/base",
            "_view_module_version": "1.2.0",
            "_view_name": "LayoutView",
            "align_content": null,
            "align_items": null,
            "align_self": null,
            "border": null,
            "bottom": null,
            "display": null,
            "flex": null,
            "flex_flow": null,
            "grid_area": null,
            "grid_auto_columns": null,
            "grid_auto_flow": null,
            "grid_auto_rows": null,
            "grid_column": null,
            "grid_gap": null,
            "grid_row": null,
            "grid_template_areas": null,
            "grid_template_columns": null,
            "grid_template_rows": null,
            "height": null,
            "justify_content": null,
            "justify_items": null,
            "left": null,
            "margin": null,
            "max_height": null,
            "max_width": null,
            "min_height": null,
            "min_width": null,
            "object_fit": null,
            "object_position": null,
            "order": null,
            "overflow": null,
            "overflow_x": null,
            "overflow_y": null,
            "padding": null,
            "right": null,
            "top": null,
            "visibility": null,
            "width": null
          }
        },
        "bcdc0aaef81c47b59d7cd9e47daee901": {
          "model_module": "@jupyter-widgets/controls",
          "model_name": "ProgressStyleModel",
          "model_module_version": "1.5.0",
          "state": {
            "_model_module": "@jupyter-widgets/controls",
            "_model_module_version": "1.5.0",
            "_model_name": "ProgressStyleModel",
            "_view_count": null,
            "_view_module": "@jupyter-widgets/base",
            "_view_module_version": "1.2.0",
            "_view_name": "StyleView",
            "bar_color": null,
            "description_width": ""
          }
        },
        "ab3a286422a8460abb05baf00904c68e": {
          "model_module": "@jupyter-widgets/base",
          "model_name": "LayoutModel",
          "model_module_version": "1.2.0",
          "state": {
            "_model_module": "@jupyter-widgets/base",
            "_model_module_version": "1.2.0",
            "_model_name": "LayoutModel",
            "_view_count": null,
            "_view_module": "@jupyter-widgets/base",
            "_view_module_version": "1.2.0",
            "_view_name": "LayoutView",
            "align_content": null,
            "align_items": null,
            "align_self": null,
            "border": null,
            "bottom": null,
            "display": null,
            "flex": null,
            "flex_flow": null,
            "grid_area": null,
            "grid_auto_columns": null,
            "grid_auto_flow": null,
            "grid_auto_rows": null,
            "grid_column": null,
            "grid_gap": null,
            "grid_row": null,
            "grid_template_areas": null,
            "grid_template_columns": null,
            "grid_template_rows": null,
            "height": null,
            "justify_content": null,
            "justify_items": null,
            "left": null,
            "margin": null,
            "max_height": null,
            "max_width": null,
            "min_height": null,
            "min_width": null,
            "object_fit": null,
            "object_position": null,
            "order": null,
            "overflow": null,
            "overflow_x": null,
            "overflow_y": null,
            "padding": null,
            "right": null,
            "top": null,
            "visibility": null,
            "width": null
          }
        },
        "704dd0643d494e60abbbc6f82f573a76": {
          "model_module": "@jupyter-widgets/controls",
          "model_name": "DescriptionStyleModel",
          "model_module_version": "1.5.0",
          "state": {
            "_model_module": "@jupyter-widgets/controls",
            "_model_module_version": "1.5.0",
            "_model_name": "DescriptionStyleModel",
            "_view_count": null,
            "_view_module": "@jupyter-widgets/base",
            "_view_module_version": "1.2.0",
            "_view_name": "StyleView",
            "description_width": ""
          }
        },
        "470ec1bdbf264328815f76a123eb5e1e": {
          "model_module": "@jupyter-widgets/controls",
          "model_name": "HBoxModel",
          "model_module_version": "1.5.0",
          "state": {
            "_dom_classes": [],
            "_model_module": "@jupyter-widgets/controls",
            "_model_module_version": "1.5.0",
            "_model_name": "HBoxModel",
            "_view_count": null,
            "_view_module": "@jupyter-widgets/controls",
            "_view_module_version": "1.5.0",
            "_view_name": "HBoxView",
            "box_style": "",
            "children": [
              "IPY_MODEL_d75130c567844e598bb75b1b6cb7d7fc",
              "IPY_MODEL_cf25d11dd9794b8585120438e1bffaf6",
              "IPY_MODEL_8c3e444594aa47e49b61d6770e833a64"
            ],
            "layout": "IPY_MODEL_a386f3edbdf54ddaaaf1e326173061ee"
          }
        },
        "d75130c567844e598bb75b1b6cb7d7fc": {
          "model_module": "@jupyter-widgets/controls",
          "model_name": "HTMLModel",
          "model_module_version": "1.5.0",
          "state": {
            "_dom_classes": [],
            "_model_module": "@jupyter-widgets/controls",
            "_model_module_version": "1.5.0",
            "_model_name": "HTMLModel",
            "_view_count": null,
            "_view_module": "@jupyter-widgets/controls",
            "_view_module_version": "1.5.0",
            "_view_name": "HTMLView",
            "description": "",
            "description_tooltip": null,
            "layout": "IPY_MODEL_c633415d00df4680b28f16f30daf0bae",
            "placeholder": "​",
            "style": "IPY_MODEL_bc2c65933c854ea0add85ba08f3307bc",
            "value": "Generating train split: 100%"
          }
        },
        "cf25d11dd9794b8585120438e1bffaf6": {
          "model_module": "@jupyter-widgets/controls",
          "model_name": "FloatProgressModel",
          "model_module_version": "1.5.0",
          "state": {
            "_dom_classes": [],
            "_model_module": "@jupyter-widgets/controls",
            "_model_module_version": "1.5.0",
            "_model_name": "FloatProgressModel",
            "_view_count": null,
            "_view_module": "@jupyter-widgets/controls",
            "_view_module_version": "1.5.0",
            "_view_name": "ProgressView",
            "bar_style": "success",
            "description": "",
            "description_tooltip": null,
            "layout": "IPY_MODEL_78c07c7d1bd44e65b202a60ac33c4fec",
            "max": 32332,
            "min": 0,
            "orientation": "horizontal",
            "style": "IPY_MODEL_784b27008e8544259964857d0a2b3f5a",
            "value": 32332
          }
        },
        "8c3e444594aa47e49b61d6770e833a64": {
          "model_module": "@jupyter-widgets/controls",
          "model_name": "HTMLModel",
          "model_module_version": "1.5.0",
          "state": {
            "_dom_classes": [],
            "_model_module": "@jupyter-widgets/controls",
            "_model_module_version": "1.5.0",
            "_model_name": "HTMLModel",
            "_view_count": null,
            "_view_module": "@jupyter-widgets/controls",
            "_view_module_version": "1.5.0",
            "_view_name": "HTMLView",
            "description": "",
            "description_tooltip": null,
            "layout": "IPY_MODEL_42bb0f49260b4b16a5de3f21f92e1bcf",
            "placeholder": "​",
            "style": "IPY_MODEL_4fd7e3c0c766409095d5ab98d86c4982",
            "value": " 32332/32332 [00:00&lt;00:00, 293699.02 examples/s]"
          }
        },
        "a386f3edbdf54ddaaaf1e326173061ee": {
          "model_module": "@jupyter-widgets/base",
          "model_name": "LayoutModel",
          "model_module_version": "1.2.0",
          "state": {
            "_model_module": "@jupyter-widgets/base",
            "_model_module_version": "1.2.0",
            "_model_name": "LayoutModel",
            "_view_count": null,
            "_view_module": "@jupyter-widgets/base",
            "_view_module_version": "1.2.0",
            "_view_name": "LayoutView",
            "align_content": null,
            "align_items": null,
            "align_self": null,
            "border": null,
            "bottom": null,
            "display": null,
            "flex": null,
            "flex_flow": null,
            "grid_area": null,
            "grid_auto_columns": null,
            "grid_auto_flow": null,
            "grid_auto_rows": null,
            "grid_column": null,
            "grid_gap": null,
            "grid_row": null,
            "grid_template_areas": null,
            "grid_template_columns": null,
            "grid_template_rows": null,
            "height": null,
            "justify_content": null,
            "justify_items": null,
            "left": null,
            "margin": null,
            "max_height": null,
            "max_width": null,
            "min_height": null,
            "min_width": null,
            "object_fit": null,
            "object_position": null,
            "order": null,
            "overflow": null,
            "overflow_x": null,
            "overflow_y": null,
            "padding": null,
            "right": null,
            "top": null,
            "visibility": null,
            "width": null
          }
        },
        "c633415d00df4680b28f16f30daf0bae": {
          "model_module": "@jupyter-widgets/base",
          "model_name": "LayoutModel",
          "model_module_version": "1.2.0",
          "state": {
            "_model_module": "@jupyter-widgets/base",
            "_model_module_version": "1.2.0",
            "_model_name": "LayoutModel",
            "_view_count": null,
            "_view_module": "@jupyter-widgets/base",
            "_view_module_version": "1.2.0",
            "_view_name": "LayoutView",
            "align_content": null,
            "align_items": null,
            "align_self": null,
            "border": null,
            "bottom": null,
            "display": null,
            "flex": null,
            "flex_flow": null,
            "grid_area": null,
            "grid_auto_columns": null,
            "grid_auto_flow": null,
            "grid_auto_rows": null,
            "grid_column": null,
            "grid_gap": null,
            "grid_row": null,
            "grid_template_areas": null,
            "grid_template_columns": null,
            "grid_template_rows": null,
            "height": null,
            "justify_content": null,
            "justify_items": null,
            "left": null,
            "margin": null,
            "max_height": null,
            "max_width": null,
            "min_height": null,
            "min_width": null,
            "object_fit": null,
            "object_position": null,
            "order": null,
            "overflow": null,
            "overflow_x": null,
            "overflow_y": null,
            "padding": null,
            "right": null,
            "top": null,
            "visibility": null,
            "width": null
          }
        },
        "bc2c65933c854ea0add85ba08f3307bc": {
          "model_module": "@jupyter-widgets/controls",
          "model_name": "DescriptionStyleModel",
          "model_module_version": "1.5.0",
          "state": {
            "_model_module": "@jupyter-widgets/controls",
            "_model_module_version": "1.5.0",
            "_model_name": "DescriptionStyleModel",
            "_view_count": null,
            "_view_module": "@jupyter-widgets/base",
            "_view_module_version": "1.2.0",
            "_view_name": "StyleView",
            "description_width": ""
          }
        },
        "78c07c7d1bd44e65b202a60ac33c4fec": {
          "model_module": "@jupyter-widgets/base",
          "model_name": "LayoutModel",
          "model_module_version": "1.2.0",
          "state": {
            "_model_module": "@jupyter-widgets/base",
            "_model_module_version": "1.2.0",
            "_model_name": "LayoutModel",
            "_view_count": null,
            "_view_module": "@jupyter-widgets/base",
            "_view_module_version": "1.2.0",
            "_view_name": "LayoutView",
            "align_content": null,
            "align_items": null,
            "align_self": null,
            "border": null,
            "bottom": null,
            "display": null,
            "flex": null,
            "flex_flow": null,
            "grid_area": null,
            "grid_auto_columns": null,
            "grid_auto_flow": null,
            "grid_auto_rows": null,
            "grid_column": null,
            "grid_gap": null,
            "grid_row": null,
            "grid_template_areas": null,
            "grid_template_columns": null,
            "grid_template_rows": null,
            "height": null,
            "justify_content": null,
            "justify_items": null,
            "left": null,
            "margin": null,
            "max_height": null,
            "max_width": null,
            "min_height": null,
            "min_width": null,
            "object_fit": null,
            "object_position": null,
            "order": null,
            "overflow": null,
            "overflow_x": null,
            "overflow_y": null,
            "padding": null,
            "right": null,
            "top": null,
            "visibility": null,
            "width": null
          }
        },
        "784b27008e8544259964857d0a2b3f5a": {
          "model_module": "@jupyter-widgets/controls",
          "model_name": "ProgressStyleModel",
          "model_module_version": "1.5.0",
          "state": {
            "_model_module": "@jupyter-widgets/controls",
            "_model_module_version": "1.5.0",
            "_model_name": "ProgressStyleModel",
            "_view_count": null,
            "_view_module": "@jupyter-widgets/base",
            "_view_module_version": "1.2.0",
            "_view_name": "StyleView",
            "bar_color": null,
            "description_width": ""
          }
        },
        "42bb0f49260b4b16a5de3f21f92e1bcf": {
          "model_module": "@jupyter-widgets/base",
          "model_name": "LayoutModel",
          "model_module_version": "1.2.0",
          "state": {
            "_model_module": "@jupyter-widgets/base",
            "_model_module_version": "1.2.0",
            "_model_name": "LayoutModel",
            "_view_count": null,
            "_view_module": "@jupyter-widgets/base",
            "_view_module_version": "1.2.0",
            "_view_name": "LayoutView",
            "align_content": null,
            "align_items": null,
            "align_self": null,
            "border": null,
            "bottom": null,
            "display": null,
            "flex": null,
            "flex_flow": null,
            "grid_area": null,
            "grid_auto_columns": null,
            "grid_auto_flow": null,
            "grid_auto_rows": null,
            "grid_column": null,
            "grid_gap": null,
            "grid_row": null,
            "grid_template_areas": null,
            "grid_template_columns": null,
            "grid_template_rows": null,
            "height": null,
            "justify_content": null,
            "justify_items": null,
            "left": null,
            "margin": null,
            "max_height": null,
            "max_width": null,
            "min_height": null,
            "min_width": null,
            "object_fit": null,
            "object_position": null,
            "order": null,
            "overflow": null,
            "overflow_x": null,
            "overflow_y": null,
            "padding": null,
            "right": null,
            "top": null,
            "visibility": null,
            "width": null
          }
        },
        "4fd7e3c0c766409095d5ab98d86c4982": {
          "model_module": "@jupyter-widgets/controls",
          "model_name": "DescriptionStyleModel",
          "model_module_version": "1.5.0",
          "state": {
            "_model_module": "@jupyter-widgets/controls",
            "_model_module_version": "1.5.0",
            "_model_name": "DescriptionStyleModel",
            "_view_count": null,
            "_view_module": "@jupyter-widgets/base",
            "_view_module_version": "1.2.0",
            "_view_name": "StyleView",
            "description_width": ""
          }
        }
      }
    }
  },
  "cells": [
    {
      "cell_type": "code",
      "execution_count": 1,
      "metadata": {
        "colab": {
          "base_uri": "https://localhost:8080/"
        },
        "id": "RqmsT5JNS0GF",
        "outputId": "baaac428-d832-47b6-e604-28251460ef31"
      },
      "outputs": [
        {
          "output_type": "stream",
          "name": "stdout",
          "text": [
            "\u001b[2K     \u001b[90m━━━━━━━━━━━━━━━━━━━━━━━━━━━━━━━━━━━━━━━━\u001b[0m \u001b[32m542.1/542.1 kB\u001b[0m \u001b[31m6.3 MB/s\u001b[0m eta \u001b[36m0:00:00\u001b[0m\n",
            "\u001b[2K     \u001b[90m━━━━━━━━━━━━━━━━━━━━━━━━━━━━━━━━━━━━━━━━\u001b[0m \u001b[32m116.3/116.3 kB\u001b[0m \u001b[31m9.8 MB/s\u001b[0m eta \u001b[36m0:00:00\u001b[0m\n",
            "\u001b[2K     \u001b[90m━━━━━━━━━━━━━━━━━━━━━━━━━━━━━━━━━━━━━━━━\u001b[0m \u001b[32m64.9/64.9 kB\u001b[0m \u001b[31m4.5 MB/s\u001b[0m eta \u001b[36m0:00:00\u001b[0m\n",
            "\u001b[2K     \u001b[90m━━━━━━━━━━━━━━━━━━━━━━━━━━━━━━━━━━━━━━━━\u001b[0m \u001b[32m194.1/194.1 kB\u001b[0m \u001b[31m7.8 MB/s\u001b[0m eta \u001b[36m0:00:00\u001b[0m\n",
            "\u001b[2K     \u001b[90m━━━━━━━━━━━━━━━━━━━━━━━━━━━━━━━━━━━━━━━━\u001b[0m \u001b[32m134.8/134.8 kB\u001b[0m \u001b[31m8.2 MB/s\u001b[0m eta \u001b[36m0:00:00\u001b[0m\n",
            "\u001b[?25h\u001b[31mERROR: pip's dependency resolver does not currently take into account all the packages that are installed. This behaviour is the source of the following dependency conflicts.\n",
            "google-colab 1.0.0 requires requests==2.31.0, but you have requests 2.32.3 which is incompatible.\u001b[0m\u001b[31m\n",
            "\u001b[2K     \u001b[90m━━━━━━━━━━━━━━━━━━━━━━━━━━━━━━━━━━━━━━━━\u001b[0m \u001b[32m868.8/868.8 kB\u001b[0m \u001b[31m9.4 MB/s\u001b[0m eta \u001b[36m0:00:00\u001b[0m\n",
            "\u001b[2K     \u001b[90m━━━━━━━━━━━━━━━━━━━━━━━━━━━━━━━━━━━━━━━━\u001b[0m \u001b[32m21.3/21.3 MB\u001b[0m \u001b[31m60.8 MB/s\u001b[0m eta \u001b[36m0:00:00\u001b[0m\n",
            "\u001b[?25h"
          ]
        }
      ],
      "source": [
        "!pip install datasets -q --quiet\n",
        "!pip install tokenizers -q --quiet\n",
        "!pip install torchmetrics -q --quiet\n",
        "!pip install torchtext -q --quiet"
      ]
    },
    {
      "cell_type": "code",
      "source": [
        "from config import get_config\n",
        "cfg = get_config()\n",
        "cfg['batch_size'] = 64\n",
        "cfg['preload'] = None"
      ],
      "metadata": {
        "id": "FqZBa9fvTJCv"
      },
      "execution_count": 2,
      "outputs": []
    },
    {
      "cell_type": "code",
      "source": [
        "from train import train_model\n",
        "import torch\n",
        "torch.cuda.amp.autocast(enabled=True)"
      ],
      "metadata": {
        "colab": {
          "base_uri": "https://localhost:8080/"
        },
        "id": "XoHdnW4UTMNU",
        "outputId": "0c10606d-318b-4a4c-b253-95ac6c9948be"
      },
      "execution_count": 3,
      "outputs": [
        {
          "output_type": "stream",
          "name": "stderr",
          "text": [
            "/usr/local/lib/python3.10/dist-packages/torchtext/datasets/__init__.py:4: UserWarning: \n",
            "/!\\ IMPORTANT WARNING ABOUT TORCHTEXT STATUS /!\\ \n",
            "Torchtext is deprecated and the last released version will be 0.18 (this one). You can silence this warning by calling the following at the beginnign of your scripts: `import torchtext; torchtext.disable_torchtext_deprecation_warning()`\n",
            "  warnings.warn(torchtext._TORCHTEXT_DEPRECATION_MSG)\n",
            "/usr/local/lib/python3.10/dist-packages/torchtext/data/__init__.py:4: UserWarning: \n",
            "/!\\ IMPORTANT WARNING ABOUT TORCHTEXT STATUS /!\\ \n",
            "Torchtext is deprecated and the last released version will be 0.18 (this one). You can silence this warning by calling the following at the beginnign of your scripts: `import torchtext; torchtext.disable_torchtext_deprecation_warning()`\n",
            "  warnings.warn(torchtext._TORCHTEXT_DEPRECATION_MSG)\n"
          ]
        },
        {
          "output_type": "execute_result",
          "data": {
            "text/plain": [
              "<torch.cuda.amp.autocast_mode.autocast at 0x7a137b193760>"
            ]
          },
          "metadata": {},
          "execution_count": 3
        }
      ]
    },
    {
      "cell_type": "code",
      "source": [
        "train_model(cfg)"
      ],
      "metadata": {
        "colab": {
          "base_uri": "https://localhost:8080/",
          "height": 1000,
          "referenced_widgets": [
            "23ee49715e7d45edbc70b83b287ac95d",
            "f6995428ba114079ba0b89efbc6262a4",
            "b488f86978164aeab6d648ef7b16405d",
            "caad73a65e6d4550bef03765afdc12d0",
            "26326e0ec48045e89cc394c2916c3a32",
            "c50a83b711904079bed371666203981f",
            "f7a5eb54d2b040f2a374aa61bc52f6ee",
            "1a1a10b015bd4708a19c59b8ad9b581f",
            "88fc4bdc3f3342d1bfd0052ee3ef4801",
            "763735443aa446d49b78a14be41e3226",
            "eac60e66847d4396ae407747f6a4c54a",
            "0539ec7e85f44a31912043b832547c6f",
            "a3c6219c43f14ca2ae3f3c6cdab97f08",
            "8b8e18be34244c708d40829ce55f00ed",
            "bf22acaba31e416fbbc719a2be9123ac",
            "43549a3d8bff433d8348a1014f1fd7d9",
            "b1737dc618ca4d3cb025d4db27ebc77e",
            "1cac1d30016c454d9d042413f455ca23",
            "8482898a4007477188e952280deb7ab9",
            "bcdc0aaef81c47b59d7cd9e47daee901",
            "ab3a286422a8460abb05baf00904c68e",
            "704dd0643d494e60abbbc6f82f573a76",
            "470ec1bdbf264328815f76a123eb5e1e",
            "d75130c567844e598bb75b1b6cb7d7fc",
            "cf25d11dd9794b8585120438e1bffaf6",
            "8c3e444594aa47e49b61d6770e833a64",
            "a386f3edbdf54ddaaaf1e326173061ee",
            "c633415d00df4680b28f16f30daf0bae",
            "bc2c65933c854ea0add85ba08f3307bc",
            "78c07c7d1bd44e65b202a60ac33c4fec",
            "784b27008e8544259964857d0a2b3f5a",
            "42bb0f49260b4b16a5de3f21f92e1bcf",
            "4fd7e3c0c766409095d5ab98d86c4982"
          ]
        },
        "id": "lWjkQ03HTOuT",
        "outputId": "ab7f6f51-5bed-4f13-882e-19fe0a620a1e"
      },
      "execution_count": 4,
      "outputs": [
        {
          "output_type": "stream",
          "name": "stdout",
          "text": [
            "Using device: cuda\n"
          ]
        },
        {
          "output_type": "stream",
          "name": "stderr",
          "text": [
            "/usr/local/lib/python3.10/dist-packages/huggingface_hub/utils/_token.py:89: UserWarning: \n",
            "The secret `HF_TOKEN` does not exist in your Colab secrets.\n",
            "To authenticate with the Hugging Face Hub, create a token in your settings tab (https://huggingface.co/settings/tokens), set it as secret in your Google Colab and restart your session.\n",
            "You will be able to reuse this secret in all of your notebooks.\n",
            "Please note that authentication is recommended but still optional to access public models or datasets.\n",
            "  warnings.warn(\n"
          ]
        },
        {
          "output_type": "display_data",
          "data": {
            "text/plain": [
              "Downloading readme:   0%|          | 0.00/28.1k [00:00<?, ?B/s]"
            ],
            "application/vnd.jupyter.widget-view+json": {
              "version_major": 2,
              "version_minor": 0,
              "model_id": "23ee49715e7d45edbc70b83b287ac95d"
            }
          },
          "metadata": {}
        },
        {
          "output_type": "display_data",
          "data": {
            "text/plain": [
              "Downloading data:   0%|          | 0.00/5.73M [00:00<?, ?B/s]"
            ],
            "application/vnd.jupyter.widget-view+json": {
              "version_major": 2,
              "version_minor": 0,
              "model_id": "0539ec7e85f44a31912043b832547c6f"
            }
          },
          "metadata": {}
        },
        {
          "output_type": "display_data",
          "data": {
            "text/plain": [
              "Generating train split:   0%|          | 0/32332 [00:00<?, ? examples/s]"
            ],
            "application/vnd.jupyter.widget-view+json": {
              "version_major": 2,
              "version_minor": 0,
              "model_id": "470ec1bdbf264328815f76a123eb5e1e"
            }
          },
          "metadata": {}
        },
        {
          "output_type": "stream",
          "name": "stdout",
          "text": [
            "Max length of source sentence: 309\n",
            "Max length of target sentence: 274\n"
          ]
        },
        {
          "output_type": "stream",
          "name": "stderr",
          "text": [
            "Processing Epoch 00: 100%|██████████| 243/243 [00:49<00:00,  4.87it/s, loss=6.232]\n"
          ]
        },
        {
          "output_type": "stream",
          "name": "stdout",
          "text": [
            "--------------------------------------------------------------------------------\n",
            "    SOURCE: 'No, evidently it will be better not to ask for anything to-night,' he reflected; 'only let me get away from here without making a mess of things!'\n",
            "    TARGET: “No, ormai si vede che è meglio non chiedere nulla per oggi — pensava — basta uscire di qua senza avere ingarbugliato le cose”.\n",
            " PREDICTED: — Non è non è non è non non non non non è non è non non non non è non è non è non è non è non è .\n",
            "--------------------------------------------------------------------------------\n",
            "    SOURCE: 'Yes, but all that has to be looked after, and who is going to do it?' remarked Dolly unwillingly.\n",
            "    TARGET: — Sì, è giusto, tutto questo va seguìto, ma chi lo farà? — rispondeva controvoglia Dar’ja Aleksandrovna.\n",
            " PREDICTED: — Non è è , e , e non è che non è che non è che non è che non è ?\n",
            "--------------------------------------------------------------------------------\n"
          ]
        },
        {
          "output_type": "stream",
          "name": "stderr",
          "text": [
            "Processing Epoch 01: 100%|██████████| 243/243 [00:50<00:00,  4.84it/s, loss=5.191]\n"
          ]
        },
        {
          "output_type": "stream",
          "name": "stdout",
          "text": [
            "--------------------------------------------------------------------------------\n",
            "    SOURCE: Harris had a sad expression on him, so we noticed, when we got into the boat.\n",
            "    TARGET: Come osservammo, Harris aveva in viso una triste espressione.\n",
            " PREDICTED: Harris era un ’ altra , quando ci , quando ci a un tratto .\n",
            "--------------------------------------------------------------------------------\n",
            "    SOURCE: She imagined him now calmly conversing with his mother and the Princess Sorokina, and rejoicing at her sufferings.\n",
            "    TARGET: Lo immaginava mentre con la madre e con la Sorokina discorreva tranquillo e gioiva delle sofferenze di lei.\n",
            " PREDICTED: Ella lo guardò con la mano e la mano con la principessa , e la mano .\n",
            "--------------------------------------------------------------------------------\n"
          ]
        },
        {
          "output_type": "stream",
          "name": "stderr",
          "text": [
            "Processing Epoch 02: 100%|██████████| 243/243 [00:50<00:00,  4.77it/s, loss=4.757]\n"
          ]
        },
        {
          "output_type": "stream",
          "name": "stdout",
          "text": [
            "--------------------------------------------------------------------------------\n",
            "    SOURCE: Oh, I wish he would cease tormenting me with letters for money? I have no more money to give him: we are getting poor.\n",
            "    TARGET: Vorrei che non mi tormentasse più con le sue richieste di danaro!\n",
            " PREDICTED: Oh , che mi , mi per il denaro , non ci sono più .\n",
            "--------------------------------------------------------------------------------\n",
            "    SOURCE: 'Well, there haven't been many sins in your past!'\n",
            "    TARGET: — Su, via, tu di peccati ne hai pochi.\n",
            " PREDICTED: — Be ’, non c ’ è vero !\n",
            "--------------------------------------------------------------------------------\n"
          ]
        },
        {
          "output_type": "stream",
          "name": "stderr",
          "text": [
            "Processing Epoch 03: 100%|██████████| 243/243 [00:50<00:00,  4.82it/s, loss=4.290]\n"
          ]
        },
        {
          "output_type": "stream",
          "name": "stdout",
          "text": [
            "--------------------------------------------------------------------------------\n",
            "    SOURCE: It is particularly desired that the work should be managed honestly,' concluded Oblonsky, with an emphasis on the word.\n",
            "    TARGET: Apprezzano in modo particolare che il lavoro sia condotto con onestà — disse Stepan Arkad’ic con intenzione.\n",
            " PREDICTED: È forse di essere quella che la sua vita sia necessario , Stepan Arkad ’ ic con una parola di parola .\n",
            "--------------------------------------------------------------------------------\n",
            "    SOURCE: By this time, quite a small crowd had collected, and people were asking each other what was the matter.\n",
            "    TARGET: Intanto s’era raccolta una piccola calca, e la gente si domandava di che cosa si trattasse.\n",
            " PREDICTED: Alla volta , una folla , una folla si vedeva , e un ’ altra cosa si era l ’ altra cosa .\n",
            "--------------------------------------------------------------------------------\n"
          ]
        },
        {
          "output_type": "stream",
          "name": "stderr",
          "text": [
            "Processing Epoch 04: 100%|██████████| 243/243 [00:50<00:00,  4.82it/s, loss=3.613]\n"
          ]
        },
        {
          "output_type": "stream",
          "name": "stdout",
          "text": [
            "--------------------------------------------------------------------------------\n",
            "    SOURCE: Why, if I were a man I could not have loved anyone else after knowing you.\n",
            "    TARGET: Se fossi un uomo non avrei potuto amare nessun’altra dopo aver conosciuto voi.\n",
            " PREDICTED: Perché fossi uomo di un uomo di nuovo non ho altro che una cosa di cui voi .\n",
            "--------------------------------------------------------------------------------\n",
            "    SOURCE: At about four o'clock we began to discuss our arrangements for the evening.\n",
            "    TARGET: Verso le quattro cominciammo a discutere le disposizioni per la sera.\n",
            " PREDICTED: A proposito di quattro , di quattro , con la sera .\n",
            "--------------------------------------------------------------------------------\n"
          ]
        },
        {
          "output_type": "stream",
          "name": "stderr",
          "text": [
            "Processing Epoch 05: 100%|██████████| 243/243 [00:50<00:00,  4.82it/s, loss=3.003]\n"
          ]
        },
        {
          "output_type": "stream",
          "name": "stdout",
          "text": [
            "--------------------------------------------------------------------------------\n",
            "    SOURCE: Why, I thought it was the Director of the Department!' and he remembered that Anna had asked him to see the boy.\n",
            "    TARGET: Io credevo fosse un capodivisione. Anna m’aveva appunto pregato di vederlo” ricordò.\n",
            " PREDICTED: Giacchè che ero entrata cerimoniosa , che era il contenuto e ricordò che Anna socchiudeva il ragazzo .\n",
            "--------------------------------------------------------------------------------\n",
            "    SOURCE: On the tenth day after their arrival in that town Kitty fell ill.\n",
            "    TARGET: Dieci giorni dopo il suo arrivo nella cittadina, Kitty si ammalò.\n",
            " PREDICTED: Sulla mattina dopo il giorno dopo , Kitty , in cui Kitty si era messo a casa .\n",
            "--------------------------------------------------------------------------------\n"
          ]
        },
        {
          "output_type": "stream",
          "name": "stderr",
          "text": [
            "Processing Epoch 06: 100%|██████████| 243/243 [00:50<00:00,  4.79it/s, loss=2.367]\n"
          ]
        },
        {
          "output_type": "stream",
          "name": "stdout",
          "text": [
            "--------------------------------------------------------------------------------\n",
            "    SOURCE: \"Oh! I remember now,\" said George; \"it was the third one.\"\n",
            "    TARGET: — Ah! adesso ricordo — disse Giorgio. — Era la terza.\n",
            " PREDICTED: — Oh ! Ricordo che ora , — disse Giorgio ; — era una terza persona .\n",
            "--------------------------------------------------------------------------------\n",
            "    SOURCE: She wanted to compare these likenesses and began drawing them out of the album.\n",
            "    TARGET: Voleva fare il confronto e cominciò a tirar fuori dall’album le fotografie.\n",
            " PREDICTED: Voleva queste cose , e cominciò a l ’ album di quell ’ album .\n",
            "--------------------------------------------------------------------------------\n"
          ]
        },
        {
          "output_type": "stream",
          "name": "stderr",
          "text": [
            "Processing Epoch 07: 100%|██████████| 243/243 [00:50<00:00,  4.79it/s, loss=2.090]\n"
          ]
        },
        {
          "output_type": "stream",
          "name": "stdout",
          "text": [
            "--------------------------------------------------------------------------------\n",
            "    SOURCE: 'You don't want that,' he replied.\n",
            "    TARGET: — Voi questo non lo volete — disse lui.\n",
            " PREDICTED: — Cosa non hai bisogno di questo — rispose .\n",
            "--------------------------------------------------------------------------------\n",
            "    SOURCE: \"I rather think not, sir: I should have more pleasure in staying with you.\"\n",
            "    TARGET: — Non credo, signore; troverei maggior piacere a restare con voi.\n",
            " PREDICTED: — Non credo , signore , perché vi avrei piacere con piacere .\n",
            "--------------------------------------------------------------------------------\n"
          ]
        },
        {
          "output_type": "stream",
          "name": "stderr",
          "text": [
            "Processing Epoch 08: 100%|██████████| 243/243 [00:50<00:00,  4.83it/s, loss=1.914]\n"
          ]
        },
        {
          "output_type": "stream",
          "name": "stdout",
          "text": [
            "--------------------------------------------------------------------------------\n",
            "    SOURCE: The dinner was as good as the dinner service, a thing of which Oblonsky was a connoisseur.\n",
            "    TARGET: Il pranzo fu altrettanto raffinato quanto il vasellame di cui Stepan Arkad’ic era un appassionato.\n",
            " PREDICTED: Il pranzo era come il pranzo , un simile a cui Stepan Arkad ’ ic aveva la sua collera .\n",
            "--------------------------------------------------------------------------------\n",
            "    SOURCE: No, you must tell me all you really think!\n",
            "    TARGET: No, dimmi tutto quello che pensi!\n",
            " PREDICTED: No , dovete sapere per me lo pensate !\n",
            "--------------------------------------------------------------------------------\n"
          ]
        },
        {
          "output_type": "stream",
          "name": "stderr",
          "text": [
            "Processing Epoch 09: 100%|██████████| 243/243 [00:50<00:00,  4.82it/s, loss=1.788]\n"
          ]
        },
        {
          "output_type": "stream",
          "name": "stdout",
          "text": [
            "--------------------------------------------------------------------------------\n",
            "    SOURCE: Advancing to the table he struck his ring against it, shouting in a loud voice:\n",
            "    TARGET: Si accostò al tavolo e, picchiandovi sopra con un anello, cominciò a gridare a gran voce:\n",
            " PREDICTED: di tavola , egli in anello la voce , con voce forte :\n",
            "--------------------------------------------------------------------------------\n",
            "    SOURCE: \"Nay; he doesn't live here: he is only staying a while. When he is at home, he is in his own parish at Morton.\"\n",
            "    TARGET: — Non sta qui, c'è da poco tempo; la sua casa è nella parrocchia di Morton.\n",
            " PREDICTED: — No , non lo ama , mi è più da fare ; lo cura , quando verrà in casa c ' è poco da una delle sue forme .\n",
            "--------------------------------------------------------------------------------\n"
          ]
        },
        {
          "output_type": "stream",
          "name": "stderr",
          "text": [
            "Processing Epoch 10: 100%|██████████| 243/243 [00:50<00:00,  4.81it/s, loss=1.600]\n"
          ]
        },
        {
          "output_type": "stream",
          "name": "stdout",
          "text": [
            "--------------------------------------------------------------------------------\n",
            "    SOURCE: He couldn't have said a word until I'd got the bag shut and strapped, of course.\n",
            "    TARGET: Naturalmente non avrebbe detto una parola, se non avessi chiuso prima la valigia.\n",
            " PREDICTED: E non aveva detto una parola , quando comincia la valigia e vi si .\n",
            "--------------------------------------------------------------------------------\n",
            "    SOURCE: But Caesar crossed in spite of this.\n",
            "    TARGET: Ma Cesare, nonostante ciò, lo attraversò.\n",
            " PREDICTED: Ma Cesare risalì in questo :\n",
            "--------------------------------------------------------------------------------\n"
          ]
        },
        {
          "output_type": "stream",
          "name": "stderr",
          "text": [
            "Processing Epoch 11: 100%|██████████| 243/243 [00:51<00:00,  4.72it/s, loss=1.579]\n"
          ]
        },
        {
          "output_type": "stream",
          "name": "stdout",
          "text": [
            "--------------------------------------------------------------------------------\n",
            "    SOURCE: He looked with his glittering black eyes straight at an excited landowner, with a grey moustache, whose words evidently amused him.\n",
            "    TARGET: Con gli occhi neri lucenti guardava fisso il proprietario dai baffi grigi che si animava, ed evidentemente quei discorsi lo divertivano.\n",
            " PREDICTED: Egli guardò con uno sguardo scintillante ; nera erane la , con i baffi grigi , era evidente , evidentemente , esitò .\n",
            "--------------------------------------------------------------------------------\n",
            "    SOURCE: \"Well,\" said he, \"if you had committed a murder, and I had told you your crime was discovered, you could scarcely look more aghast.\"\n",
            "    TARGET: — Se aveste commesso un delitto e vi venissi a dire che è stato scoperto, avreste l'aria meno spaventata.\n",
            " PREDICTED: — ! — mi disse , — se avete un momento di cui avete detto , era scoperto , l ' avete capito prima d ' orrore .\n",
            "--------------------------------------------------------------------------------\n"
          ]
        },
        {
          "output_type": "stream",
          "name": "stderr",
          "text": [
            "Processing Epoch 12: 100%|██████████| 243/243 [00:50<00:00,  4.77it/s, loss=1.525]\n"
          ]
        },
        {
          "output_type": "stream",
          "name": "stdout",
          "text": [
            "--------------------------------------------------------------------------------\n",
            "    SOURCE: 'What? Are you going to take Kitty in the trap?' said her mother reproachfully.\n",
            "    TARGET: — Ma come! vuoi portare Kitty in calesse? — chiese la madre in tono di rimprovero.\n",
            " PREDICTED: — Come , vi prego , pregò di Kitty in vettura ? — disse la madre rimprovero .\n",
            "--------------------------------------------------------------------------------\n",
            "    SOURCE: 'Send and let me know whether I may see her,' said the old Prince.\n",
            "    TARGET: — Mandami a dire se si può andare da lei — disse il principe.\n",
            " PREDICTED: — , il cercare se io lo vedo — rispose il vecchio principe .\n",
            "--------------------------------------------------------------------------------\n"
          ]
        },
        {
          "output_type": "stream",
          "name": "stderr",
          "text": [
            "Processing Epoch 13: 100%|██████████| 243/243 [00:50<00:00,  4.80it/s, loss=1.493]\n"
          ]
        },
        {
          "output_type": "stream",
          "name": "stdout",
          "text": [
            "--------------------------------------------------------------------------------\n",
            "    SOURCE: Before I explain, recall, if you please, my notice, clearly given, that if I helped you, it must be as the blind man would help the lame.\n",
            "    TARGET: Ma avanti che mi spieghi, rammentatevi, vi prego, quel che vi dissi in principio, che se vi aiuto lo faccio come il cieco che aiuta lo zoppo.\n",
            " PREDICTED: Prima di non , vi prego , di , mi è stata fatta diventar matto , mi ama , mi deve sempre per l ’ uomo che l ’ uomo .\n",
            "--------------------------------------------------------------------------------\n",
            "    SOURCE: And resolving that he would attend to it next day without fail, he went to his wife. On his way he ran over in his mind the whole of the past day.\n",
            "    TARGET: Andando da lei, Levin percorse rapidamente col pensiero tutto quello che era passato in quel giorno.\n",
            " PREDICTED: E poi , non avrebbe dovuto trovarsi in nessun giorno , senza volere , andò via per la moglie , e corse a tutto il suo .\n",
            "--------------------------------------------------------------------------------\n"
          ]
        },
        {
          "output_type": "stream",
          "name": "stderr",
          "text": [
            "Processing Epoch 14: 100%|██████████| 243/243 [00:50<00:00,  4.84it/s, loss=1.482]\n"
          ]
        },
        {
          "output_type": "stream",
          "name": "stdout",
          "text": [
            "--------------------------------------------------------------------------------\n",
            "    SOURCE: 'It does not interest you?'\n",
            "    TARGET: — Non vi interessa questo?\n",
            " PREDICTED: — Non vi è interessante ?\n",
            "--------------------------------------------------------------------------------\n",
            "    SOURCE: 'Yes,' responded Levin pensively, 'an extraordinary woman!\n",
            "    TARGET: — Sì, rispose Levin — una donna straordinaria.\n",
            " PREDICTED: — Sì — rispose Levin — era una donna di straordinario .\n",
            "--------------------------------------------------------------------------------\n"
          ]
        },
        {
          "output_type": "stream",
          "name": "stderr",
          "text": [
            "Processing Epoch 15: 100%|██████████| 243/243 [00:50<00:00,  4.82it/s, loss=1.444]\n"
          ]
        },
        {
          "output_type": "stream",
          "name": "stdout",
          "text": [
            "--------------------------------------------------------------------------------\n",
            "    SOURCE: Kitty was no longer struck by this contrast.\n",
            "    TARGET: Questo contrasto non colpiva ormai più Kitty.\n",
            " PREDICTED: Kitty non era più col contrasto .\n",
            "--------------------------------------------------------------------------------\n",
            "    SOURCE: 'How did I dare to connect anything that was not innocent with this pathetic being!\n",
            "    TARGET: “Come ho osato di associare il pensiero di qualcosa d’impuro con quest’essere commovente?\n",
            " PREDICTED: — Sì , oserei , è dalla verità , non più innocente , non più .\n",
            "--------------------------------------------------------------------------------\n"
          ]
        },
        {
          "output_type": "stream",
          "name": "stderr",
          "text": [
            "Processing Epoch 16: 100%|██████████| 243/243 [00:51<00:00,  4.71it/s, loss=1.442]\n"
          ]
        },
        {
          "output_type": "stream",
          "name": "stdout",
          "text": [
            "--------------------------------------------------------------------------------\n",
            "    SOURCE: She dabbed her face with her handkerchief, and began to dress.\n",
            "    TARGET: Si passò il fazzoletto sul viso e cominciò a vestirsi.\n",
            " PREDICTED: Ella il suo viso con lei il fazzoletto e cominciò a vestirsi .\n",
            "--------------------------------------------------------------------------------\n",
            "    SOURCE: Then he yawned.\n",
            "    TARGET: Quindi sbadigliò.\n",
            " PREDICTED: Poi , sbadigliò .\n",
            "--------------------------------------------------------------------------------\n"
          ]
        },
        {
          "output_type": "stream",
          "name": "stderr",
          "text": [
            "Processing Epoch 17: 100%|██████████| 243/243 [00:50<00:00,  4.79it/s, loss=1.433]\n"
          ]
        },
        {
          "output_type": "stream",
          "name": "stdout",
          "text": [
            "--------------------------------------------------------------------------------\n",
            "    SOURCE: I was in the library--sitting in his chair--he was quite near.\n",
            "    TARGET: Ero nella libreria, seduta su una poltrona, ed egli era accanto a me.\n",
            " PREDICTED: Ero in piedi , sulla biblioteca !\n",
            "--------------------------------------------------------------------------------\n",
            "    SOURCE: Why, if I were a man I could not have loved anyone else after knowing you.\n",
            "    TARGET: Se fossi un uomo non avrei potuto amare nessun’altra dopo aver conosciuto voi.\n",
            " PREDICTED: Sono di uomo , se non l ’ ho mai amato , io stessa .\n",
            "--------------------------------------------------------------------------------\n"
          ]
        }
      ]
    },
    {
      "cell_type": "code",
      "source": [],
      "metadata": {
        "id": "bzPHwde6TqwI"
      },
      "execution_count": null,
      "outputs": []
    }
  ]
}